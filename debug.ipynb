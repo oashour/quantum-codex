{
 "cells": [
  {
   "cell_type": "code",
   "execution_count": 4,
   "metadata": {},
   "outputs": [],
   "source": [
    "from codex import Codex\n",
    "\n",
    "import logging\n",
    "import json\n",
    "\n",
    "from codex.database.espresso import run_helpdoc, generate_json\n",
    "from codex.database.vasp import generate_json\n",
    "\n",
    "logging.basicConfig(level=logging.WARNING)"
   ]
  },
  {
   "cell_type": "code",
   "execution_count": null,
   "metadata": {},
   "outputs": [],
   "source": [
    "codex = Codex('example/vasp/INCAR_Fe3O4.vasp', 'vasp', '1686736265')"
   ]
  },
  {
   "cell_type": "code",
   "execution_count": null,
   "metadata": {},
   "outputs": [],
   "source": [
    "from pymongo import MongoClient\n",
    "from importlib import resources\n",
    "import os\n",
    "import re\n",
    "from packaging import version\n",
    "import datetime\n",
    "\n",
    "client = MongoClient('localhost', 27017)\n",
    "db_base_dir = resources.files(\"codex.database\")"
   ]
  },
  {
   "attachments": {},
   "cell_type": "markdown",
   "metadata": {},
   "source": [
    "# Add to MongoDB"
   ]
  },
  {
   "cell_type": "code",
   "execution_count": null,
   "metadata": {},
   "outputs": [],
   "source": [
    "base_db_dir = resources.files(\"codex.database\")\n",
    "json_files = os.listdir(os.path.join(base_db_dir, \"json\"))\n",
    "espresso_versions = [\n",
    "    match.group(1)\n",
    "    for f in json_files\n",
    "    for match in [re.match(r\"espresso-([0-9]+\\.[0-9]+(?:\\.[0-9]+)?)\", f)]\n",
    "    if match\n",
    "]\n",
    "vasp_versions = [\n",
    "    match.group(1) for f in json_files for match in [re.match(r\"vasp-([0-9]+)\", f)] if match\n",
    "]\n",
    "\n",
    "espresso_latest = max(espresso_versions, key=version.parse)\n",
    "vasp_latest = str(max(map(int, vasp_versions)))\n",
    "vasp_latest_date = datetime.datetime.fromtimestamp(int(vasp_latest))"
   ]
  },
  {
   "cell_type": "code",
   "execution_count": null,
   "metadata": {},
   "outputs": [],
   "source": [
    "base_db_dir = resources.files(\"codex.database\")\n",
    "for v in espresso_versions:\n",
    "    database_json = os.path.join(base_db_dir, \"json\", f\"espresso-{v}.json\")\n",
    "    with open(database_json, \"r\") as f:\n",
    "        database = json.load(f)\n",
    "\n",
    "    # Now prepare to add to MongoDB\n",
    "    this_mongo_db =  client['espresso-' + v.replace(\".\", \"x\")]\n",
    "    for package_name, package in database.items():\n",
    "        this_mongo_db[package_name].insert_many(package)"
   ]
  },
  {
   "attachments": {},
   "cell_type": "markdown",
   "metadata": {},
   "source": [
    "# VASP database"
   ]
  },
  {
   "cell_type": "code",
   "execution_count": null,
   "metadata": {},
   "outputs": [],
   "source": [
    "database = generate_json()"
   ]
  },
  {
   "cell_type": "code",
   "execution_count": null,
   "metadata": {},
   "outputs": [],
   "source": [
    "fudge_dates = True\n",
    "# Change the date on 20 random entries in the database to 1980\n",
    "import random\n",
    "if fudge_dates and database:\n",
    "    for i in range(30):\n",
    "        title = random.choice(list(database['INCAR'].keys()))\n",
    "        database['INCAR'][title][\"last_revised\"] = \"1980-01-01T00:00:00Z\"\n",
    "        #print(f\"Changed ['INCAR']['{title}'] to 1980-01-01T00:00:00Z\")"
   ]
  },
  {
   "cell_type": "code",
   "execution_count": null,
   "metadata": {},
   "outputs": [],
   "source": [
    "tag = \"ICHARG\"\n",
    "text = database[tag][\"text\"]\n",
    "sections = text.get_sections()\n",
    "options = []\n",
    "#for section in sections:\n",
    "#    if section.title is not None:\n",
    "#        # Strip title of whitespace (leading and trailing)\n",
    "#        if section.title.strip() == \"Tag options\":\n",
    "#            lists = section.get_lists()\n",
    "wikilink=\"*{{TAG|\"+tag+\"}}\"\n",
    "lists = text.get_lists()\n",
    "for lll in lists:\n",
    "    for item in lll.fullitems:\n",
    "        if item.startswith(wikilink):\n",
    "            options.append(item.split(wikilink)[1].strip())\n",
    "\n",
    "print(options)\n",
    "#options_dict = {}\n",
    "#for option in options:\n",
    "#    setting = wtp.parse(option.split(\":\")[0]).plain_text()\n",
    "#    explanation = wtp.parse(option.split(\":\")[1]).plain_text()\n",
    "#    options_dict.update({setting: explanation})\n",
    "\n",
    "#options_dict\n",
    "tag = \"Available PAW potentials\"\n",
    "text = database[tag][\"text\"]\n",
    "sections = text.get_sections()[1:3]\n",
    "bolds = []\n",
    "for section in sections:\n",
    "    print(section.title)\n",
    "    for b in section.get_bolds():\n",
    "        try:\n",
    "            float(b.plain_text())\n",
    "        except:\n",
    "            print(\"Found recommended pseudo: \" + b.plain_text())\n",
    "            # TODO: doesn't work for the GW ones....\n",
    "            bolds.append(b.plain_text())\n",
    "\n",
    "#bolds"
   ]
  },
  {
   "attachments": {},
   "cell_type": "markdown",
   "metadata": {},
   "source": [
    "# QE database"
   ]
  },
  {
   "cell_type": "code",
   "execution_count": 5,
   "metadata": {},
   "outputs": [],
   "source": [
    "versions = ['6.7', '6.8', '7.0', '7.1', '7.2']\n",
    "database_dir = resources.files(\"codex.database\")\n",
    "\n",
    "for v in versions:\n",
    "    #run_helpdoc(v)\n",
    "    db = generate_json(v)"
   ]
  },
  {
   "attachments": {},
   "cell_type": "markdown",
   "metadata": {},
   "source": [
    "# Generate Codex"
   ]
  },
  {
   "cell_type": "code",
   "execution_count": null,
   "metadata": {},
   "outputs": [],
   "source": [
    "from importlib import resources\n",
    "filename = 'example/sr3pbo_bands.in'\n",
    "database_dir = resources.files(\"codex.database\")\n",
    "version = '7.2'\n",
    "# Make .dft-tutor directory in current dir if it doesn't exist\n",
    "codex = Codex(filename, version)\n"
   ]
  },
  {
   "cell_type": "code",
   "execution_count": null,
   "metadata": {},
   "outputs": [],
   "source": [
    "print(codex.filename)\n",
    "print(codex.code)\n",
    "print(codex.package)\n",
    "print(codex.tags['control'])"
   ]
  },
  {
   "cell_type": "code",
   "execution_count": null,
   "metadata": {},
   "outputs": [],
   "source": [
    "from importlib import resources\n",
    "import os\n",
    "from base64 import b64decode\n",
    "import json\n",
    "import shutil\n",
    "\n",
    "dbversion='7.2'\n",
    "dir='static'\n",
    "\n",
    "base_db_dir = resources.files(\"codex.database\")\n",
    "code = \"qe\"  # Need better terminology\n",
    "database_dir = os.path.join(base_db_dir, f\"{code}-{dbversion}\")\n",
    "database_filename = os.path.join(database_dir, \"database.json\")\n",
    "\n",
    "with open(database_filename) as f:\n",
    "    database = json.load(f)\n",
    "\n",
    "working_dir = os.path.abspath(dir)\n",
    "tags_dir = os.path.join(working_dir, \"tags-qe\")\n",
    "if os.path.exists(tags_dir):\n",
    "    shutil.rmtree(tags_dir, ignore_errors=True)\n",
    "os.mkdir(tags_dir)\n",
    "for p, package in database.items():\n",
    "    print(p)\n",
    "    os.mkdir(os.path.join(tags_dir, p))\n",
    "    for nl, namelist in package.items():\n",
    "        print(nl)\n",
    "        os.mkdir(os.path.join(tags_dir, p, nl))\n",
    "        for tag, v in namelist.items():\n",
    "            print(tag, v)\n",
    "            if v[\"html\"] != 'No documentation was found for this tag.':\n",
    "                webpage = b64decode(v[\"html\"]).decode(\"utf-8\")\n",
    "                path = os.path.join(tags_dir, p, nl, f\"{tag}.html\")\n",
    "                with open(path, \"w\") as f:\n",
    "                    f.write(webpage)"
   ]
  }
 ],
 "metadata": {
  "kernelspec": {
   "display_name": "dft-tutor-dev",
   "language": "python",
   "name": "python3"
  },
  "language_info": {
   "codemirror_mode": {
    "name": "ipython",
    "version": 3
   },
   "file_extension": ".py",
   "mimetype": "text/x-python",
   "name": "python",
   "nbconvert_exporter": "python",
   "pygments_lexer": "ipython3",
   "version": "3.11.2"
  },
  "orig_nbformat": 4
 },
 "nbformat": 4,
 "nbformat_minor": 2
}
