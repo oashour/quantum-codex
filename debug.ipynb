{
 "cells": [
  {
   "cell_type": "code",
   "execution_count": 1,
   "metadata": {},
   "outputs": [],
   "source": [
    "from codex import Codex\n",
    "\n",
    "import logging\n",
    "import os\n",
    "import json\n",
    "from importlib import resources\n",
    "\n",
    "from codex.database.espresso import run_helpdoc, generate_database, _extract_vars\n",
    "\n",
    "from pymatgen.io.vasp.inputs import Incar, Poscar, Potcar, Kpoints\n",
    "\n",
    "from tabulate import tabulate\n",
    "\n",
    "from lxml.html.clean import Cleaner\n",
    "from lxml import etree\n",
    "\n",
    "logging.basicConfig(level=logging.INFO)"
   ]
  },
  {
   "attachments": {},
   "cell_type": "markdown",
   "metadata": {},
   "source": [
    "# VASP database exploration"
   ]
  },
  {
   "cell_type": "code",
   "execution_count": 2,
   "metadata": {},
   "outputs": [],
   "source": [
    "incar = Incar.from_file(\"example/INCAR_Sr3PbO\")\n",
    "incar = Incar.from_file(\"/Users/ashour/Google Drive/My Drive/Research/Griffin/Fe3O4/INCAR\")"
   ]
  },
  {
   "cell_type": "code",
   "execution_count": null,
   "metadata": {},
   "outputs": [],
   "source": [
    "incar_string = incar.get_string(sort_keys=False)"
   ]
  },
  {
   "cell_type": "code",
   "execution_count": 4,
   "metadata": {},
   "outputs": [],
   "source": [
    "incar_filename = \"/Users/ashour/Google Drive/My Drive/Research/Griffin/Fe3O4/INCAR\"\n",
    "codex = Codex(incar_filename, \"vasp\", \"1686736265\")"
   ]
  },
  {
   "cell_type": "code",
   "execution_count": 2,
   "metadata": {},
   "outputs": [
    {
     "ename": "KeyError",
     "evalue": "'summary'",
     "output_type": "error",
     "traceback": [
      "\u001b[0;31m---------------------------------------------------------------------------\u001b[0m",
      "\u001b[0;31mKeyError\u001b[0m                                  Traceback (most recent call last)",
      "Cell \u001b[0;32mIn[2], line 1\u001b[0m\n\u001b[0;32m----> 1\u001b[0m codex \u001b[39m=\u001b[39m Codex(\u001b[39m\"\u001b[39;49m\u001b[39mexample/sr3pbo_bands.in\u001b[39;49m\u001b[39m\"\u001b[39;49m, \u001b[39m\"\u001b[39;49m\u001b[39mqe\u001b[39;49m\u001b[39m\"\u001b[39;49m, \u001b[39m\"\u001b[39;49m\u001b[39m7.2\u001b[39;49m\u001b[39m\"\u001b[39;49m)\n",
      "File \u001b[0;32m~/code/dft-codex/codex/codex.py:85\u001b[0m, in \u001b[0;36mCodex.__init__\u001b[0;34m(self, input_filename, code, dbversion)\u001b[0m\n\u001b[1;32m     82\u001b[0m \u001b[39mif\u001b[39;00m \u001b[39mself\u001b[39m\u001b[39m.\u001b[39mcode \u001b[39m==\u001b[39m \u001b[39m\"\u001b[39m\u001b[39mqe\u001b[39m\u001b[39m\"\u001b[39m:\n\u001b[1;32m     83\u001b[0m     \u001b[39m# for file_id, file in enumerate(input_filenames):\u001b[39;00m\n\u001b[1;32m     84\u001b[0m     file \u001b[39m=\u001b[39m os\u001b[39m.\u001b[39mpath\u001b[39m.\u001b[39mabspath(input_filename)\n\u001b[0;32m---> 85\u001b[0m     tags, cards \u001b[39m=\u001b[39m \u001b[39mself\u001b[39;49m\u001b[39m.\u001b[39;49m_get_qe_html(file)\n\u001b[1;32m     86\u001b[0m \u001b[39melif\u001b[39;00m \u001b[39mself\u001b[39m\u001b[39m.\u001b[39mcode \u001b[39m==\u001b[39m \u001b[39m\"\u001b[39m\u001b[39mvasp\u001b[39m\u001b[39m\"\u001b[39m:\n\u001b[1;32m     87\u001b[0m     file \u001b[39m=\u001b[39m os\u001b[39m.\u001b[39mpath\u001b[39m.\u001b[39mabspath(input_filename)\n",
      "File \u001b[0;32m~/code/dft-codex/codex/codex.py:217\u001b[0m, in \u001b[0;36mCodex._get_qe_html\u001b[0;34m(self, input_filename)\u001b[0m\n\u001b[1;32m    215\u001b[0m     tags_dict[nl] \u001b[39m=\u001b[39m []\n\u001b[1;32m    216\u001b[0m     \u001b[39mfor\u001b[39;00m tag, val \u001b[39min\u001b[39;00m namelist\u001b[39m.\u001b[39mitems():\n\u001b[0;32m--> 217\u001b[0m         tags_dict[nl]\u001b[39m.\u001b[39mextend(\u001b[39mself\u001b[39;49m\u001b[39m.\u001b[39;49m_get_tag_html(nl, tag, val, comment_indents))\n\u001b[1;32m    219\u001b[0m \u001b[39mreturn\u001b[39;00m tags_dict, cards\n",
      "File \u001b[0;32m~/code/dft-codex/codex/codex.py:311\u001b[0m, in \u001b[0;36mCodex._get_tag_html\u001b[0;34m(self, namelist, tag, val, comment_indents)\u001b[0m\n\u001b[1;32m    300\u001b[0m         tag_list\u001b[39m.\u001b[39mappend(\n\u001b[1;32m    301\u001b[0m             {\n\u001b[1;32m    302\u001b[0m                 \u001b[39m\"\u001b[39m\u001b[39mname\u001b[39m\u001b[39m\"\u001b[39m: \u001b[39mf\u001b[39m\u001b[39m\"\u001b[39m\u001b[39m{\u001b[39;00mtag\u001b[39m}\u001b[39;00m\u001b[39m(\u001b[39m\u001b[39m{\u001b[39;00mi\u001b[39m+\u001b[39m\u001b[39m1\u001b[39m\u001b[39m}\u001b[39;00m\u001b[39m)\u001b[39m\u001b[39m\"\u001b[39m,\n\u001b[0;32m   (...)\u001b[0m\n\u001b[1;32m    308\u001b[0m             }\n\u001b[1;32m    309\u001b[0m         )\n\u001b[1;32m    310\u001b[0m \u001b[39melse\u001b[39;00m:\n\u001b[0;32m--> 311\u001b[0m     comment \u001b[39m=\u001b[39m \u001b[39mself\u001b[39;49m\u001b[39m.\u001b[39;49m_get_comment(tag, val, database)\n\u001b[1;32m    312\u001b[0m     cind \u001b[39m=\u001b[39m comment_indents[tag] \u001b[39m*\u001b[39m \u001b[39m\"\u001b[39m\u001b[39m \u001b[39m\u001b[39m\"\u001b[39m\n\u001b[1;32m    313\u001b[0m     comment \u001b[39m=\u001b[39m \u001b[39mf\u001b[39m\u001b[39m\"\u001b[39m\u001b[39m{\u001b[39;00mcind\u001b[39m}\u001b[39;00m\u001b[39m ! \u001b[39m\u001b[39m{\u001b[39;00mcomment\u001b[39m}\u001b[39;00m\u001b[39m\"\u001b[39m \u001b[39mif\u001b[39;00m comment \u001b[39melse\u001b[39;00m \u001b[39m\"\u001b[39m\u001b[39m\"\u001b[39m\n",
      "File \u001b[0;32m~/code/dft-codex/codex/codex.py:266\u001b[0m, in \u001b[0;36mCodex._get_comment\u001b[0;34m(tag, val, database)\u001b[0m\n\u001b[1;32m    264\u001b[0m     \u001b[39mif\u001b[39;00m comment \u001b[39mis\u001b[39;00m \u001b[39mnot\u001b[39;00m \u001b[39mNone\u001b[39;00m:\n\u001b[1;32m    265\u001b[0m         \u001b[39mreturn\u001b[39;00m remove_html_tags(comment)\n\u001b[0;32m--> 266\u001b[0m \u001b[39mif\u001b[39;00m database[tag][\u001b[39m\"\u001b[39;49m\u001b[39msummary\u001b[39;49m\u001b[39m\"\u001b[39;49m]:\n\u001b[1;32m    267\u001b[0m     comment \u001b[39m=\u001b[39m remove_html_tags(database[tag][\u001b[39m\"\u001b[39m\u001b[39msummary\u001b[39m\u001b[39m\"\u001b[39m])\n\u001b[1;32m    268\u001b[0m     \u001b[39mif\u001b[39;00m comment\u001b[39m.\u001b[39mstartswith(tag):\n\u001b[1;32m    269\u001b[0m         \u001b[39m# TODO: this is vasp specific\u001b[39;00m\n",
      "\u001b[0;31mKeyError\u001b[0m: 'summary'"
     ]
    }
   ],
   "source": [
    "codex = Codex(\"example/sr3pbo_bands.in\", \"qe\", \"7.2\")"
   ]
  },
  {
   "cell_type": "code",
   "execution_count": null,
   "metadata": {},
   "outputs": [],
   "source": [
    "code = \"vasp\"\n",
    "dbversion = \"1686736265\"\n",
    "base_db_dir = resources.files(\"codex.database\")\n",
    "database_dir = os.path.join(base_db_dir, f\"{code}-{dbversion}\")\n",
    "database_filename = os.path.join(database_dir, \"database.json\")\n",
    "\n",
    "with open(database_filename) as f:\n",
    "    database = json.load(f)\n",
    "database = {\"vasp\": database} if code == \"vasp\" else database"
   ]
  },
  {
   "cell_type": "code",
   "execution_count": null,
   "metadata": {},
   "outputs": [],
   "source": [
    "package = \"vasp\"\n",
    "namelist = \"INCAR\"\n",
    "tag = \"ENCUT\"\n",
    "database[package][namelist][tag]"
   ]
  },
  {
   "attachments": {},
   "cell_type": "markdown",
   "metadata": {},
   "source": [
    "# Generate QE database"
   ]
  },
  {
   "cell_type": "code",
   "execution_count": null,
   "metadata": {},
   "outputs": [],
   "source": [
    "work_dir = 'temp'\n",
    "def_files = ['PW/Doc/INPUT_PW.def', 'PP/Doc/INPUT_PROJWFC.def']\n",
    "versions = ['6.7', '6.8', '7.0', '7.1', '7.2']\n",
    "from importlib import resources\n",
    "database_dir = resources.files(\"codex.database\")\n",
    "\n",
    "for v in versions:\n",
    "#    run_helpdoc(v)\n",
    "    generate_database(v)"
   ]
  },
  {
   "attachments": {},
   "cell_type": "markdown",
   "metadata": {},
   "source": [
    "# Generate Codex"
   ]
  },
  {
   "cell_type": "code",
   "execution_count": null,
   "metadata": {},
   "outputs": [],
   "source": [
    "from importlib import resources\n",
    "filename = 'example/sr3pbo_bands.in'\n",
    "database_dir = resources.files(\"codex.database\")\n",
    "version = '7.2'\n",
    "# Make .dft-tutor directory in current dir if it doesn't exist\n",
    "codex = Codex(filename, version)\n"
   ]
  },
  {
   "cell_type": "code",
   "execution_count": null,
   "metadata": {},
   "outputs": [],
   "source": [
    "print(codex.filename)\n",
    "print(codex.code)\n",
    "print(codex.package)\n",
    "print(codex.tags['control'])"
   ]
  },
  {
   "cell_type": "code",
   "execution_count": null,
   "metadata": {},
   "outputs": [],
   "source": [
    "from importlib import resources\n",
    "import os\n",
    "from base64 import b64decode\n",
    "import json\n",
    "import shutil\n",
    "\n",
    "dbversion='7.2'\n",
    "dir='static'\n",
    "\n",
    "base_db_dir = resources.files(\"codex.database\")\n",
    "code = \"qe\"  # Need better terminology\n",
    "database_dir = os.path.join(base_db_dir, f\"{code}-{dbversion}\")\n",
    "database_filename = os.path.join(database_dir, \"database.json\")\n",
    "\n",
    "with open(database_filename) as f:\n",
    "    database = json.load(f)\n",
    "\n",
    "working_dir = os.path.abspath(dir)\n",
    "tags_dir = os.path.join(working_dir, \"tags-qe\")\n",
    "if os.path.exists(tags_dir):\n",
    "    shutil.rmtree(tags_dir, ignore_errors=True)\n",
    "os.mkdir(tags_dir)\n",
    "for p, package in database.items():\n",
    "    print(p)\n",
    "    os.mkdir(os.path.join(tags_dir, p))\n",
    "    for nl, namelist in package.items():\n",
    "        print(nl)\n",
    "        os.mkdir(os.path.join(tags_dir, p, nl))\n",
    "        for tag, v in namelist.items():\n",
    "            print(tag, v)\n",
    "            if v[\"html\"] != 'No documentation was found for this tag.':\n",
    "                webpage = b64decode(v[\"html\"]).decode(\"utf-8\")\n",
    "                path = os.path.join(tags_dir, p, nl, f\"{tag}.html\")\n",
    "                with open(path, \"w\") as f:\n",
    "                    f.write(webpage)"
   ]
  },
  {
   "cell_type": "code",
   "execution_count": null,
   "metadata": {},
   "outputs": [],
   "source": []
  },
  {
   "attachments": {},
   "cell_type": "markdown",
   "metadata": {},
   "source": [
    "# CLI stuff"
   ]
  },
  {
   "cell_type": "code",
   "execution_count": null,
   "metadata": {},
   "outputs": [],
   "source": [
    "from importlib.metadata import metadata\n",
    "metadata = metadata('dft-codex')\n",
    "__author__ = metadata['Author']\n",
    "__version__ = metadata['Version']\n",
    "__email__ = metadata['Author-email']\n",
    "__maintainer__ = metadata['Maintainer']\n",
    "__maintainer_email__ = metadata['Maintainer-email']\n",
    "__summary__ = metadata['Summary']\n",
    "\n",
    "print(list(metadata))\n",
    "print(__author__)\n",
    "print(__version__)\n",
    "print(__email__)\n",
    "print(__maintainer__)\n",
    "print(__maintainer_email__)\n",
    "print(__summary__)\n",
    "\n",
    "from importlib.resources import files, contents\n",
    "data_text = files('codex.database').joinpath('qe-7.2').joinpath('database.json')\n",
    "# Check if it exists\n",
    "data_text.exists()"
   ]
  },
  {
   "cell_type": "code",
   "execution_count": null,
   "metadata": {},
   "outputs": [],
   "source": [
    "import webbrowser\n",
    "webbrowser.get()"
   ]
  },
  {
   "cell_type": "code",
   "execution_count": null,
   "metadata": {},
   "outputs": [],
   "source": [
    "import os\n"
   ]
  },
  {
   "cell_type": "code",
   "execution_count": null,
   "metadata": {},
   "outputs": [],
   "source": [
    "import os\n",
    "file = 'x/y/z/hi_bye.omak_sharmoota.html'\n",
    "os.path.basename(file).split('.html')[0]"
   ]
  },
  {
   "cell_type": "code",
   "execution_count": null,
   "metadata": {},
   "outputs": [],
   "source": [
    "import f90nml\n",
    "\n",
    "def find_package(data, partial_match):\n",
    "    for top_key, sub_dict in data.items():\n",
    "        match = True\n",
    "        for sub_key, sub_value in partial_match.items():\n",
    "            if sub_key not in sub_dict or sub_dict[sub_key] != sub_value:\n",
    "                match = False\n",
    "                break\n",
    "        if match:\n",
    "            return top_key\n",
    "    return None\n",
    "\n",
    "# Load Database\n",
    "\n",
    "input_filenames = ['example/pw.in', 'example/pw2.in']\n",
    "input_data = [f90nml.read(f) for f in input_filenames]\n",
    "find_package(database, input_data[0])"
   ]
  },
  {
   "cell_type": "code",
   "execution_count": null,
   "metadata": {},
   "outputs": [],
   "source": [
    "data = {\n",
    "    'hi': {\n",
    "        'mike': {'a': 1, 'b': 2},\n",
    "        'bob': {'c': 1, 'd': 2},\n",
    "        'alice': {'e': 2, 'f': 30}\n",
    "    },\n",
    "    'bye': {\n",
    "        'mike': {'x': 1, 'b': 2},\n",
    "        'archie': {'c': 1, 'd': 2},\n",
    "        'claudia': {'e': 2, 'f': 5, 'abc': 10}\n",
    "    },\n",
    "    'adios': {\n",
    "        'marshall': {'x': 1, 'y': 2},\n",
    "        'bob': {'c': 1, 'sdf': 234},\n",
    "        'mikey': {'e': 2, 'f': 30}\n",
    "    }\n",
    "}\n",
    "\n",
    "partial_match = {'mike': {'b': 2}, 'bob': {'c': 1}}\n",
    "find_package(data, partial_match)"
   ]
  },
  {
   "cell_type": "code",
   "execution_count": null,
   "metadata": {},
   "outputs": [],
   "source": [
    "import json\n",
    "import f90nml\n",
    "database_filename = 'codex/database/qe-7.2/database.json'\n",
    "with open(database_filename) as f:\n",
    "    database = json.load(f)\n",
    "\n",
    "def mash(database):\n",
    "    mashed = {}\n",
    "    for package, namelists in database.items():\n",
    "        mashed[package] = []\n",
    "        for namelist, tags in namelists.items():\n",
    "            for t in tags.keys():\n",
    "                mashed[package].append(namelist + '.' + t)\n",
    "    return mashed\n",
    "\n",
    "input_filenames = ['example/sr3pbo_bands.in', 'example/si_bands.in', 'example/bi2te3_proj.in', 'example/bi4te3_bandsx.in']\n",
    "input_data = [f90nml.read(f) for f in input_filenames]\n",
    "\n",
    "flat_db = mash(database)\n",
    "for i in range(len(input_data)):\n",
    "    flat_input = mash({'?': input_data[i]})['?']\n",
    "    print(flat_input)\n",
    "    matches = []\n",
    "    for package, mashed_tags in flat_db.items():\n",
    "        if all([tag in mashed_tags for tag in flat_input]):\n",
    "            matches.append(package)\n",
    "    print(f'For input file {input_filenames[i]}, the following packages match: {matches}')"
   ]
  },
  {
   "cell_type": "code",
   "execution_count": null,
   "metadata": {},
   "outputs": [],
   "source": [
    "print(flat_db['projwfc'])"
   ]
  },
  {
   "cell_type": "code",
   "execution_count": null,
   "metadata": {},
   "outputs": [],
   "source": []
  },
  {
   "cell_type": "code",
   "execution_count": null,
   "metadata": {},
   "outputs": [],
   "source": [
    "\n",
    "import json\n",
    "import f90nml\n",
    "database_filename = 'codex/database/qe-7.2/database.json'\n",
    "with open(database_filename) as f:\n",
    "    database = json.load(f)"
   ]
  },
  {
   "cell_type": "code",
   "execution_count": null,
   "metadata": {},
   "outputs": [],
   "source": [
    "database['pw']['system']['lspinorb']"
   ]
  },
  {
   "cell_type": "code",
   "execution_count": null,
   "metadata": {},
   "outputs": [],
   "source": [
    "database['bands']['bands']['lsigma']"
   ]
  },
  {
   "cell_type": "code",
   "execution_count": null,
   "metadata": {},
   "outputs": [],
   "source": []
  }
 ],
 "metadata": {
  "kernelspec": {
   "display_name": "dft-tutor-dev",
   "language": "python",
   "name": "python3"
  },
  "language_info": {
   "codemirror_mode": {
    "name": "ipython",
    "version": 3
   },
   "file_extension": ".py",
   "mimetype": "text/x-python",
   "name": "python",
   "nbconvert_exporter": "python",
   "pygments_lexer": "ipython3",
   "version": "3.11.3"
  },
  "orig_nbformat": 4
 },
 "nbformat": 4,
 "nbformat_minor": 2
}
