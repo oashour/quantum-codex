{
 "cells": [
  {
   "cell_type": "code",
   "execution_count": 1,
   "metadata": {},
   "outputs": [],
   "source": [
    "from codex import Codex\n",
    "\n",
    "import logging\n",
    "\n",
    "from codex.database.espresso import run_helpdoc, generate_database\n",
    "\n",
    "logging.basicConfig(level=logging.DEBUG)"
   ]
  },
  {
   "attachments": {},
   "cell_type": "markdown",
   "metadata": {},
   "source": [
    "# Generate QE database"
   ]
  },
  {
   "cell_type": "code",
   "execution_count": null,
   "metadata": {},
   "outputs": [],
   "source": [
    "work_dir = 'temp'\n",
    "def_files = ['PW/Doc/INPUT_PW.def', 'PP/Doc/INPUT_PROJWFC.def']\n",
    "versions = ['6.3']#, '6.8']#, '7.0', '7.2']\n",
    "database_dir = 'database/'\n",
    "gen_docs = True\n",
    "from importlib import resources\n",
    "database_dir = resources.files(\"codex.database\")\n",
    "\n",
    "if gen_docs:\n",
    "    run_helpdoc(work_dir, def_files, versions, database_dir)\n",
    "#generate_database(versions, database_dir)"
   ]
  },
  {
   "attachments": {},
   "cell_type": "markdown",
   "metadata": {},
   "source": [
    "# Generate Codex"
   ]
  },
  {
   "cell_type": "code",
   "execution_count": 2,
   "metadata": {},
   "outputs": [
    {
     "data": {
      "text/plain": [
       "<codex.codex.Codex at 0x11143e250>"
      ]
     },
     "execution_count": 2,
     "metadata": {},
     "output_type": "execute_result"
    }
   ],
   "source": [
    "from importlib import resources\n",
    "filename = 'pw.in'\n",
    "database_dir = resources.files(\"codex.database\")\n",
    "version = '7.2'\n",
    "# Make .dft-tutor directory in current dir if it doesn't exist\n",
    "Codex(filename, database_dir, version)\n"
   ]
  },
  {
   "attachments": {},
   "cell_type": "markdown",
   "metadata": {},
   "source": [
    "# CLI stuff"
   ]
  },
  {
   "cell_type": "code",
   "execution_count": null,
   "metadata": {},
   "outputs": [],
   "source": [
    "from importlib.metadata import metadata\n",
    "metadata = metadata('dft-codex')\n",
    "__author__ = metadata['Author']\n",
    "__version__ = metadata['Version']\n",
    "__email__ = metadata['Author-email']\n",
    "__maintainer__ = metadata['Maintainer']\n",
    "__maintainer_email__ = metadata['Maintainer-email']\n",
    "__summary__ = metadata['Summary']\n",
    "\n",
    "print(list(metadata))\n",
    "print(__author__)\n",
    "print(__version__)\n",
    "print(__email__)\n",
    "print(__maintainer__)\n",
    "print(__maintainer_email__)\n",
    "print(__summary__)\n",
    "\n",
    "from importlib.resources import files, contents\n",
    "data_text = files('codex.database').joinpath('qe-7.2').joinpath('database.json')\n",
    "# Check if it exists\n",
    "data_text.exists()"
   ]
  }
 ],
 "metadata": {
  "kernelspec": {
   "display_name": "dft-tutor-dev",
   "language": "python",
   "name": "python3"
  },
  "language_info": {
   "codemirror_mode": {
    "name": "ipython",
    "version": 3
   },
   "file_extension": ".py",
   "mimetype": "text/x-python",
   "name": "python",
   "nbconvert_exporter": "python",
   "pygments_lexer": "ipython3",
   "version": "3.11.2"
  },
  "orig_nbformat": 4
 },
 "nbformat": 4,
 "nbformat_minor": 2
}
