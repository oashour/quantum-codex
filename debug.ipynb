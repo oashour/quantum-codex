{
 "cells": [
  {
   "cell_type": "code",
   "execution_count": null,
   "metadata": {},
   "outputs": [],
   "source": [
    "import logging\n",
    "import json\n",
    "\n",
    "\n",
    "from pymongo import MongoClient\n",
    "from importlib import resources\n",
    "import os\n",
    "import re\n",
    "import datetime\n",
    "import glob\n",
    "\n",
    "from codex.database.vasp import generate_json as vasp_generate_json\n",
    "from codex.database.espresso import run_helpdoc\n",
    "from codex.database.vasp import generate_json as espresso_generate_json\n",
    "from codex.database.utils import get_database\n",
    "\n",
    "logging.basicConfig(level=logging.WARNING)"
   ]
  },
  {
   "cell_type": "code",
   "execution_count": null,
   "metadata": {},
   "outputs": [],
   "source": [
    "client = MongoClient('localhost', 27017)"
   ]
  },
  {
   "cell_type": "code",
   "execution_count": null,
   "metadata": {},
   "outputs": [],
   "source": [
    "from codex.models.vasp_codex import VaspCodex\n",
    "from codex.models.espresso_codex import EspressoCodex\n",
    "from codex.api.schemas import CodexEntrySchema\n",
    "\n",
    "codex1 = VaspCodex('example/vasp/POSCAR_Fe3O4.vasp', 'latest', client)\n",
    "codex2 = EspressoCodex('example/espresso/bi4te3_bandsx.in', 'latest', client)\n",
    "#client.drop_database('codex')\n",
    "result = client['codex']['entries'].insert_many(CodexEntrySchema().dump([codex1, codex2], many=True))\n",
    "#print(result.inserted_id)"
   ]
  },
  {
   "cell_type": "code",
   "execution_count": null,
   "metadata": {},
   "outputs": [],
   "source": [
    "result.inserted_ids[0]"
   ]
  },
  {
   "cell_type": "code",
   "execution_count": 55,
   "metadata": {},
   "outputs": [
    {
     "name": "stdout",
     "output_type": "stream",
     "text": [
      "3954583e-94ba-41df-90f3-86d673ce5189\n",
      "83e594ee-ad85-4c81-b72f-ffa53d8ce9a4\n",
      "dff217b9190e4d1db5d118d09d0463f7\n",
      "4b364556c1954f32b15a5fbdc52511b9\n",
      "59f5fb0ea20840878cab45f8e1eb2c0f\n",
      "d606e50af4bf49fbb3344e666b3a0d69\n",
      "e44e5a84f8034db1a9fab5b391c2cd34\n"
     ]
    }
   ],
   "source": [
    "from codex.api.schemas import CodexEntryQueryArgsSchema\n",
    "params = {'filetype': 'INCAR', 'code': 'vasp'}\n",
    "#params = {'_id': ['e44e5a84f8034db1a9fab5b391c2cd34', 'dff217b9190e4d1db5d118d09d0463f7']}\n",
    "#print(CodexEntryQueryArgsSchema().dump(params))\n",
    "x = requests.get(URL, params=params).json()\n",
    "for xx in x:\n",
    "    print(xx['_id'])"
   ]
  },
  {
   "cell_type": "code",
   "execution_count": 70,
   "metadata": {},
   "outputs": [
    {
     "data": {
      "text/plain": [
       "'<!DOCTYPE html>\\n<html lang=\"en\">\\n    <head>\\n        <meta charset=\"utf-8\">\\n        <meta name=\"viewport\" content=\"width=device-width, initial-scale=1\">\\n        <link rel=\"stylesheet\"\\n              href=\"https://cdn.jsdelivr.net/npm/bootstrap@4.1.3/dist/css/bootstrap.min.css\"\\n              integrity=\"sha384-MCw98/SFnGE8fJT3GXwEOngsV7Zt27NXFoaoApmYm81iuXoPkFOJwJ8ERdknLPMO\"\\n              crossorigin=\"anonymous\">\\n        <link rel=\"stylesheet\"\\n              type=\"text/css\"\\n              href=\"/static/prism.css\">\\n        <link rel=\"stylesheet\"\\n              type=\"text/css\"\\n              href=\"/static/style.css\">\\n        <title>DFT-CODEX</title>\\n        <meta charset=\"utf-8\" />\\n        <meta name=\"keywords\" content=\"dft,vasp,quantum-espresso\" />\\n        <meta name=\"description\"\\n              content=\"Density Functional Theory Comprehensive Documentation Explorer\" />\\n    </head>\\n    <body>\\n        <div class=\"container\">\\n            <h1 class=\"display-1\">DFT-CODEX</h1>\\n<h1 class=\"errorpage-title\">404 - Page Not Found</h1>\\n<div class=\"errorpage-section\">\\n  <h4><a href=\"/\">Return to Main Page</a></h4>\\n</div>\\n        </div>\\n        <script src=\"https://code.jquery.com/jquery-3.3.1.min.js\"\\n                integrity=\"sha384-tsQFqpEReu7ZLhBV2VZlAu7zcOV+rXbYlF2cqB8txI/8aZajjp4Bqd+V6D5IgvKT\"\\n                crossorigin=\"anonymous\"></script>\\n        <script src=\"https://cdn.jsdelivr.net/npm/popper.js@1.14.3/dist/umd/popper.min.js\"\\n                integrity=\"sha384-ZMP7rVo3mIykV+2+9J3UJ46jBk0WLaUAdn689aCwoqbBJiSnjAK/l8WvCWPIPm49\"\\n                crossorigin=\"anonymous\"></script>\\n        <script src=\"https://cdn.jsdelivr.net/npm/bootstrap@4.1.3/dist/js/bootstrap.min.js\"\\n                integrity=\"sha384-ChfqqxuZUCnJSK3+MXmPNIyE6ZbWh2IMqE241rYiqJxyMiZ6OW/JmZQ5stwEULTy\"\\n                crossorigin=\"anonymous\"></script>\\n        <script src=\"/static/prism.js\"></script>\\n        <script src=\"/static/script.js\"></script>\\n        <script>\\n  $(\\'.notification .delete\\').on(\\'click\\', function() {\\n    const $notification = $(this).parent();\\n    $notification.remove();\\n  });\\n        </script>\\n    </body>\\n</html>'"
      ]
     },
     "execution_count": 70,
     "metadata": {},
     "output_type": "execute_result"
    }
   ],
   "source": [
    "import requests\n",
    "URL = 'http://localhost:5000/entries/e44e5a84f8034db1a9fab5b391c2cd35'\n",
    "x = requests.get(URL)\n",
    "x.text"
   ]
  },
  {
   "cell_type": "code",
   "execution_count": 81,
   "metadata": {},
   "outputs": [],
   "source": [
    "result = client['codex']['entries'].delete_one({'_id': 'dff217b9190e4d1db5d118d09d0463f7'})"
   ]
  },
  {
   "cell_type": "code",
   "execution_count": 88,
   "metadata": {},
   "outputs": [
    {
     "data": {
      "text/plain": [
       "<Response [204]>"
      ]
     },
     "execution_count": 88,
     "metadata": {},
     "output_type": "execute_result"
    }
   ],
   "source": [
    "URL = 'http://localhost:5000/entries/d606e50af4bf49fbb3344e666b3a0d69'\n",
    "requests.delete(URL)"
   ]
  },
  {
   "cell_type": "code",
   "execution_count": 85,
   "metadata": {},
   "outputs": [
    {
     "name": "stdout",
     "output_type": "stream",
     "text": [
      "3954583e-94ba-41df-90f3-86d673ce5189\n",
      "83e594ee-ad85-4c81-b72f-ffa53d8ce9a4\n",
      "4b364556c1954f32b15a5fbdc52511b9\n",
      "59f5fb0ea20840878cab45f8e1eb2c0f\n",
      "d606e50af4bf49fbb3344e666b3a0d69\n",
      "e44e5a84f8034db1a9fab5b391c2cd34\n"
     ]
    }
   ],
   "source": [
    "import requests\n",
    "URL = 'http://localhost:5000/entries'\n",
    "#from codex.api.schemas import CodexEntryQueryArgsSchema\n",
    "#print(CodexEntryQueryArgsSchema().load(params))\n",
    "params = {'filetype': 'INCAR'}\n",
    "x = requests.get(URL, params=params).json()\n",
    "for xx in x:\n",
    "    print(xx['_id'])"
   ]
  },
  {
   "cell_type": "code",
   "execution_count": 37,
   "metadata": {},
   "outputs": [],
   "source": [
    "import requests\n",
    "from codex.models.vasp_codex import VaspCodex\n",
    "from codex.models.espresso_codex import EspressoCodex\n",
    "from marshmallow import Schema, fields, validate, ValidationError, pre_dump, pre_load\n",
    "from codex.api.schemas import CodexEntrySchema\n",
    "\n",
    "codex = VaspCodex('example/vasp/INCAR_HfTe5.vasp', 'latest', client)\n",
    "codex1 = VaspCodex('example/vasp/POSCAR_Fe3O4.vasp', 'latest', client)\n",
    "codex2 = EspressoCodex('example/espresso/bi4te3_bandsx.in', 'latest', client)\n",
    "data = CodexEntrySchema().dump([codex], many=True)\n",
    "#print(data.keys())\n",
    "#double_dump = CodexEntrySchema().dump(data)\n",
    "#double_dump.keys()"
   ]
  },
  {
   "attachments": {},
   "cell_type": "markdown",
   "metadata": {},
   "source": [
    "# Add to MongoDB"
   ]
  },
  {
   "cell_type": "code",
   "execution_count": null,
   "metadata": {},
   "outputs": [],
   "source": [
    "base_db_dir = resources.files(\"codex.database\")\n",
    "\n",
    "json_files = glob.glob(os.path.join(base_db_dir, \"json\", \"*.json\"))\n",
    "for file in json_files:\n",
    "    insert_json(client, file)"
   ]
  },
  {
   "cell_type": "code",
   "execution_count": null,
   "metadata": {},
   "outputs": [],
   "source": [
    "database_names = client.list_database_names()\n",
    "available_versions = [\n",
    "    match.group(1)\n",
    "    for f in database_names\n",
    "    for match in [re.match(rf\"{code}-([0-9]+\\^[0-9]+(?:\\^[0-9]+)?)\", f)]\n",
    "    if match\n",
    "]\n",
    "print(available_versions)"
   ]
  },
  {
   "cell_type": "code",
   "execution_count": null,
   "metadata": {},
   "outputs": [],
   "source": [
    "get_database(client, 'Quantum ESPRESSO', '7.1')"
   ]
  },
  {
   "attachments": {},
   "cell_type": "markdown",
   "metadata": {},
   "source": [
    "# VASP database"
   ]
  },
  {
   "cell_type": "code",
   "execution_count": null,
   "metadata": {},
   "outputs": [],
   "source": [
    "db = vasp_generate_json()"
   ]
  },
  {
   "attachments": {},
   "cell_type": "markdown",
   "metadata": {},
   "source": [
    "# QE database"
   ]
  },
  {
   "cell_type": "code",
   "execution_count": null,
   "metadata": {},
   "outputs": [],
   "source": [
    "versions = ['6.7', '6.8', '7.0', '7.1', '7.2']\n",
    "database_dir = resources.files(\"codex.database\")\n",
    "\n",
    "for v in versions:\n",
    "    #run_helpdoc(v)\n",
    "    db = espresso_generate_json(v)"
   ]
  },
  {
   "attachments": {},
   "cell_type": "markdown",
   "metadata": {},
   "source": [
    "# Generate Codex"
   ]
  },
  {
   "cell_type": "code",
   "execution_count": null,
   "metadata": {},
   "outputs": [],
   "source": [
    "from importlib import resources\n",
    "filename = 'example/sr3pbo_bands.in'\n",
    "database_dir = resources.files(\"codex.database\")\n",
    "version = '7.2'\n",
    "# Make .dft-tutor directory in current dir if it doesn't exist\n",
    "codex = Codex(filename, version)\n"
   ]
  },
  {
   "cell_type": "code",
   "execution_count": null,
   "metadata": {},
   "outputs": [],
   "source": [
    "print(codex.filename)\n",
    "print(codex.code)\n",
    "print(codex.package)\n",
    "print(codex.tags['control'])"
   ]
  },
  {
   "cell_type": "code",
   "execution_count": null,
   "metadata": {},
   "outputs": [],
   "source": [
    "from importlib import resources\n",
    "import os\n",
    "from base64 import b64decode\n",
    "import json\n",
    "import shutil\n",
    "\n",
    "dbversion='7.2'\n",
    "dir='static'\n",
    "\n",
    "base_db_dir = resources.files(\"codex.database\")\n",
    "code = \"qe\"  # Need better terminology\n",
    "database_dir = os.path.join(base_db_dir, f\"{code}-{dbversion}\")\n",
    "database_filename = os.path.join(database_dir, \"database.json\")\n",
    "\n",
    "with open(database_filename) as f:\n",
    "    database = json.load(f)\n",
    "\n",
    "working_dir = os.path.abspath(dir)\n",
    "tags_dir = os.path.join(working_dir, \"tags-qe\")\n",
    "if os.path.exists(tags_dir):\n",
    "    shutil.rmtree(tags_dir, ignore_errors=True)\n",
    "os.mkdir(tags_dir)\n",
    "for p, package in database.items():\n",
    "    print(p)\n",
    "    os.mkdir(os.path.join(tags_dir, p))\n",
    "    for nl, namelist in package.items():\n",
    "        print(nl)\n",
    "        os.mkdir(os.path.join(tags_dir, p, nl))\n",
    "        for tag, v in namelist.items():\n",
    "            print(tag, v)\n",
    "            if v[\"html\"] != 'No documentation was found for this tag.':\n",
    "                webpage = b64decode(v[\"html\"]).decode(\"utf-8\")\n",
    "                path = os.path.join(tags_dir, p, nl, f\"{tag}.html\")\n",
    "                with open(path, \"w\") as f:\n",
    "                    f.write(webpage)"
   ]
  }
 ],
 "metadata": {
  "kernelspec": {
   "display_name": "dft-tutor-dev",
   "language": "python",
   "name": "python3"
  },
  "language_info": {
   "codemirror_mode": {
    "name": "ipython",
    "version": 3
   },
   "file_extension": ".py",
   "mimetype": "text/x-python",
   "name": "python",
   "nbconvert_exporter": "python",
   "pygments_lexer": "ipython3",
   "version": "3.11.2"
  },
  "orig_nbformat": 4
 },
 "nbformat": 4,
 "nbformat_minor": 2
}
