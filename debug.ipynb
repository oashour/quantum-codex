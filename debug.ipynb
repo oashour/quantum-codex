{
 "cells": [
  {
   "cell_type": "code",
   "execution_count": 1,
   "metadata": {},
   "outputs": [],
   "source": [
    "import logging\n",
    "import json\n",
    "\n",
    "\n",
    "from pymongo import MongoClient\n",
    "from importlib import resources\n",
    "import os\n",
    "import re\n",
    "import datetime\n",
    "import glob\n",
    "\n",
    "from codex.database.vasp import generate_json as vasp_generate_json\n",
    "from codex.database.espresso import run_helpdoc\n",
    "from codex.database.vasp import generate_json as espresso_generate_json\n",
    "from codex.database.utils import get_database\n",
    "\n",
    "logging.basicConfig(level=logging.WARNING)"
   ]
  },
  {
   "cell_type": "code",
   "execution_count": 2,
   "metadata": {},
   "outputs": [],
   "source": [
    "client = MongoClient('localhost', 27017)\n",
    "#get_database(client, 'VASP', 'latest')"
   ]
  },
  {
   "cell_type": "code",
   "execution_count": null,
   "metadata": {},
   "outputs": [],
   "source": [
    "nml = f90nml.read('example/espresso/si_bands.in')\n",
    "query = []\n",
    "for namelist, tags in nml.items():\n",
    "    for tag in tags:\n",
    "        query.append({'name': tag, 'section': namelist})\n",
    "matches = []\n",
    "for file_type in client['espresso-7^2'].list_collection_names():\n",
    "    results = client['espresso-7^2'][file_type].find({'$or': query})\n",
    "    if len(list(results)) == len(query):\n",
    "        matches.append(file_type)"
   ]
  },
  {
   "cell_type": "code",
   "execution_count": 3,
   "metadata": {},
   "outputs": [],
   "source": [
    "from codex.models.vasp_codex import VaspCodex\n",
    "\n",
    "codex = VaspCodex('example/vasp/INCAR_Fe3O4.vasp', 'latest', client)"
   ]
  },
  {
   "cell_type": "code",
   "execution_count": 6,
   "metadata": {},
   "outputs": [
    {
     "name": "stdout",
     "output_type": "stream",
     "text": [
      "None\n"
     ]
    }
   ],
   "source": [
    "db = client['espresso-7^2']['pw']\n",
    "print(db.find_one({'name': 'ecutwfdsjklc'}))\n"
   ]
  },
  {
   "cell_type": "code",
   "execution_count": 6,
   "metadata": {},
   "outputs": [],
   "source": [
    "from pymatgen.io.vasp.inputs import Incar\n",
    "incar = Incar.from_file('example/vasp/INCAR_Fe3O4.vasp')\n",
    "incar2 = {'': incar}"
   ]
  },
  {
   "attachments": {},
   "cell_type": "markdown",
   "metadata": {},
   "source": [
    "# Add to MongoDB"
   ]
  },
  {
   "cell_type": "code",
   "execution_count": null,
   "metadata": {},
   "outputs": [],
   "source": [
    "base_db_dir = resources.files(\"codex.database\")\n",
    "\n",
    "json_files = glob.glob(os.path.join(base_db_dir, \"json\", \"*.json\"))\n",
    "for file in json_files:\n",
    "    insert_json(client, file)"
   ]
  },
  {
   "cell_type": "code",
   "execution_count": null,
   "metadata": {},
   "outputs": [],
   "source": [
    "database_names = client.list_database_names()\n",
    "available_versions = [\n",
    "    match.group(1)\n",
    "    for f in database_names\n",
    "    for match in [re.match(rf\"{code}-([0-9]+\\^[0-9]+(?:\\^[0-9]+)?)\", f)]\n",
    "    if match\n",
    "]\n",
    "print(available_versions)"
   ]
  },
  {
   "cell_type": "code",
   "execution_count": null,
   "metadata": {},
   "outputs": [],
   "source": [
    "get_database(client, 'Quantum ESPRESSO', '7.1')"
   ]
  },
  {
   "attachments": {},
   "cell_type": "markdown",
   "metadata": {},
   "source": [
    "# VASP database"
   ]
  },
  {
   "cell_type": "code",
   "execution_count": null,
   "metadata": {},
   "outputs": [],
   "source": [
    "db = vasp_generate_json()"
   ]
  },
  {
   "attachments": {},
   "cell_type": "markdown",
   "metadata": {},
   "source": [
    "# QE database"
   ]
  },
  {
   "cell_type": "code",
   "execution_count": null,
   "metadata": {},
   "outputs": [],
   "source": [
    "versions = ['6.7', '6.8', '7.0', '7.1', '7.2']\n",
    "database_dir = resources.files(\"codex.database\")\n",
    "\n",
    "for v in versions:\n",
    "    #run_helpdoc(v)\n",
    "    db = espresso_generate_json(v)"
   ]
  },
  {
   "attachments": {},
   "cell_type": "markdown",
   "metadata": {},
   "source": [
    "# Generate Codex"
   ]
  },
  {
   "cell_type": "code",
   "execution_count": null,
   "metadata": {},
   "outputs": [],
   "source": [
    "from importlib import resources\n",
    "filename = 'example/sr3pbo_bands.in'\n",
    "database_dir = resources.files(\"codex.database\")\n",
    "version = '7.2'\n",
    "# Make .dft-tutor directory in current dir if it doesn't exist\n",
    "codex = Codex(filename, version)\n"
   ]
  },
  {
   "cell_type": "code",
   "execution_count": null,
   "metadata": {},
   "outputs": [],
   "source": [
    "print(codex.filename)\n",
    "print(codex.code)\n",
    "print(codex.package)\n",
    "print(codex.tags['control'])"
   ]
  },
  {
   "cell_type": "code",
   "execution_count": null,
   "metadata": {},
   "outputs": [],
   "source": [
    "from importlib import resources\n",
    "import os\n",
    "from base64 import b64decode\n",
    "import json\n",
    "import shutil\n",
    "\n",
    "dbversion='7.2'\n",
    "dir='static'\n",
    "\n",
    "base_db_dir = resources.files(\"codex.database\")\n",
    "code = \"qe\"  # Need better terminology\n",
    "database_dir = os.path.join(base_db_dir, f\"{code}-{dbversion}\")\n",
    "database_filename = os.path.join(database_dir, \"database.json\")\n",
    "\n",
    "with open(database_filename) as f:\n",
    "    database = json.load(f)\n",
    "\n",
    "working_dir = os.path.abspath(dir)\n",
    "tags_dir = os.path.join(working_dir, \"tags-qe\")\n",
    "if os.path.exists(tags_dir):\n",
    "    shutil.rmtree(tags_dir, ignore_errors=True)\n",
    "os.mkdir(tags_dir)\n",
    "for p, package in database.items():\n",
    "    print(p)\n",
    "    os.mkdir(os.path.join(tags_dir, p))\n",
    "    for nl, namelist in package.items():\n",
    "        print(nl)\n",
    "        os.mkdir(os.path.join(tags_dir, p, nl))\n",
    "        for tag, v in namelist.items():\n",
    "            print(tag, v)\n",
    "            if v[\"html\"] != 'No documentation was found for this tag.':\n",
    "                webpage = b64decode(v[\"html\"]).decode(\"utf-8\")\n",
    "                path = os.path.join(tags_dir, p, nl, f\"{tag}.html\")\n",
    "                with open(path, \"w\") as f:\n",
    "                    f.write(webpage)"
   ]
  }
 ],
 "metadata": {
  "kernelspec": {
   "display_name": "dft-tutor-dev",
   "language": "python",
   "name": "python3"
  },
  "language_info": {
   "codemirror_mode": {
    "name": "ipython",
    "version": 3
   },
   "file_extension": ".py",
   "mimetype": "text/x-python",
   "name": "python",
   "nbconvert_exporter": "python",
   "pygments_lexer": "ipython3",
   "version": "3.11.2"
  },
  "orig_nbformat": 4
 },
 "nbformat": 4,
 "nbformat_minor": 2
}
