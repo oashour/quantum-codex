{
 "cells": [
  {
   "cell_type": "code",
   "execution_count": 5,
   "metadata": {},
   "outputs": [],
   "source": [
    "import logging\n",
    "import json\n",
    "\n",
    "\n",
    "from pymongo import MongoClient\n",
    "from importlib import resources\n",
    "import os\n",
    "import re\n",
    "import datetime\n",
    "import glob\n",
    "\n",
    "from codex.database.vasp import generate_json as vasp_generate_json\n",
    "from codex.database.espresso import run_helpdoc\n",
    "from codex.database.vasp import generate_json as espresso_generate_json\n",
    "\n",
    "logging.basicConfig(level=logging.WARNING)"
   ]
  },
  {
   "cell_type": "code",
   "execution_count": 6,
   "metadata": {},
   "outputs": [],
   "source": [
    "client = MongoClient('localhost', 27017)"
   ]
  },
  {
   "cell_type": "code",
   "execution_count": 5,
   "metadata": {},
   "outputs": [
    {
     "data": {
      "text/plain": [
       "'c'"
      ]
     },
     "execution_count": 5,
     "metadata": {},
     "output_type": "execute_result"
    }
   ],
   "source": [
    "import re\n",
    "CDX_ID_ALPHABET = \"0123456789abcdefghijklmnopqrstuvwxyzABCDEFGHIJKLMNOPQRSTUVWXYZ\"\n",
    "CDX_ID_LENGTH = 12\n",
    "cdxid = 'cdx-c-fvr9MlHqeTqw'\n",
    "CDX_ID_ALPHABET = \"0123456789abcdefghijklmnopqrstuvwxyzABCDEFGHIJKLMNOPQRSTUVWXYZ\"\n",
    "CDX_ID_LENGTH = 12\n",
    "CDX_ID_REGEX = fr\"cdx-([fcp])-[{CDX_ID_ALPHABET}]{{{CDX_ID_LENGTH}}}\"\n",
    "if not re.match(CDX_ID_REGEX, cdxid):\n",
    "    raise ValidationError(\"Invalid cdxid\")\n",
    "cdxid.split(\"-\")[1]"
   ]
  },
  {
   "cell_type": "code",
   "execution_count": 8,
   "metadata": {},
   "outputs": [],
   "source": [
    "from codex.app.models import AbstractFileCodex, VaspFileCodex, EspressoFileCodex"
   ]
  },
  {
   "cell_type": "code",
   "execution_count": 13,
   "metadata": {},
   "outputs": [
    {
     "data": {
      "text/plain": [
       "True"
      ]
     },
     "execution_count": 13,
     "metadata": {},
     "output_type": "execute_result"
    }
   ],
   "source": [
    "issubclass(type(espresso_codex), AbstractFileCodex)"
   ]
  },
  {
   "cell_type": "code",
   "execution_count": 10,
   "metadata": {},
   "outputs": [],
   "source": [
    "from codex.app.models.vasp import VaspFileCodex\n",
    "from codex.app.models.espresso import EspressoFileCodex\n",
    "#from codex.api.entry_schemas import CodexEntrySchema\n",
    "from werkzeug.datastructures import FileStorage\n",
    "import os\n",
    "\n",
    "with open('example/espresso/bi4te3_bandsx.in', 'rb') as f:\n",
    "    f = FileStorage(f)\n",
    "    f.filename = os.path.basename(f.filename)\n",
    "    espresso_codex = EspressoFileCodex.from_file(f, client, dbversion='latest')\n",
    "with open('example/vasp/INCAR_Fe3O4.vasp', 'rb') as f:\n",
    "    f = FileStorage(f)\n",
    "    f.filename = os.path.basename(f.filename)\n",
    "    vasp_codex = VaspFileCodex.from_file(f, client, dbversion='latest')\n",
    "##client.drop_database('codex')\n",
    "#result = client['codex']['entries'].insert_many(CodexEntrySchema().dump([codex1, codex2], many=True))\n",
    "##print(result.inserted_id)"
   ]
  },
  {
   "cell_type": "code",
   "execution_count": 11,
   "metadata": {},
   "outputs": [
    {
     "data": {
      "text/plain": [
       "\"&bands\\n  prefix      = 'bi4te3'               ! of files saved by program pw\\n  outdir      = './out/'               ! directory containing the input data, i\\n  lsigma(1:3) = .TRUE., .TRUE., .TRUE. ! If true computes expectation values of the spin operator on the spinor wave\\n  lsym        = .FALSE.                ! If\\n  no_overlap  = .FALSE.                ! If\\n/\""
      ]
     },
     "execution_count": 11,
     "metadata": {},
     "output_type": "execute_result"
    }
   ],
   "source": [
    "espresso_codex.to_string()"
   ]
  },
  {
   "cell_type": "code",
   "execution_count": 7,
   "metadata": {},
   "outputs": [
    {
     "name": "stdout",
     "output_type": "stream",
     "text": [
      "&bands\n",
      "  prefix      = 'bi4te3'               ! of files saved by program pw\n",
      "  outdir      = './out/'               ! directory containing the input data, i\n",
      "  lsigma(1:3) = .TRUE., .TRUE., .TRUE. ! If true computes expectation values of the spin operator on the spinor wave\n",
      "  lsym        = .FALSE.                ! If\n",
      "  no_overlap  = .FALSE.                ! If\n",
      "/\n"
     ]
    }
   ],
   "source": [
    "print(espresso_codex.to_string(pretty=True, with_comments=True))"
   ]
  },
  {
   "cell_type": "code",
   "execution_count": 9,
   "metadata": {},
   "outputs": [
    {
     "data": {
      "text/plain": [
       "'316aa8d3d84b43669877cbc51305c899'"
      ]
     },
     "execution_count": 9,
     "metadata": {},
     "output_type": "execute_result"
    }
   ],
   "source": [
    "vasp_codex._id"
   ]
  },
  {
   "cell_type": "code",
   "execution_count": 13,
   "metadata": {},
   "outputs": [
    {
     "data": {
      "text/plain": [
       "{'_id': 'cdx-c-fvr9MlHqeTqw',\n",
       " 'code': 'espresso',\n",
       " 'created': '2023-06-28T01:18:51.811683+00:00',\n",
       " 'dbversion': '7.2',\n",
       " 'file_ids': ['cdx-f-bfbqnuh9YalR',\n",
       "  'cdx-f-ovaXqHgcJVKw',\n",
       "  'cdx-f-5nOexMABjVJ4']}"
      ]
     },
     "execution_count": 13,
     "metadata": {},
     "output_type": "execute_result"
    }
   ],
   "source": [
    "import requests\n",
    "URL = 'http://localhost:5000/calcs/cdx-c-fvr9MlHqeTqw'\n",
    "requests.get(URL).json()"
   ]
  },
  {
   "cell_type": "code",
   "execution_count": 10,
   "metadata": {},
   "outputs": [
    {
     "data": {
      "text/plain": [
       "'316aa8d3d84b43669877cbc51305c899'"
      ]
     },
     "execution_count": 10,
     "metadata": {},
     "output_type": "execute_result"
    }
   ],
   "source": [
    "espresso_codex._id"
   ]
  },
  {
   "cell_type": "code",
   "execution_count": 4,
   "metadata": {},
   "outputs": [],
   "source": [
    "from codex.models import CodexTag, FILE_CODEX_MAP\n",
    "from datetime import datetime, timezone\n",
    "\n",
    "from marshmallow import Schema, fields, post_load\n",
    "class CodexTagSchema(Schema):\n",
    "    \"\"\"Schema for a Codex's tags\"\"\"\n",
    "\n",
    "    name = fields.String(required=True)\n",
    "    value = fields.String(required=True)\n",
    "    comment = fields.String(required=True)\n",
    "    tag_pad = fields.String(required=True)\n",
    "    value_pad = fields.String(required=True)\n",
    "    comment_pad = fields.String(required=True)\n",
    "    id = fields.String(required=True)\n",
    "    href = fields.String(required=True)\n",
    "    indent = fields.String(required=True)\n",
    "\n",
    "    @post_load\n",
    "    def create_tag(self, data, **kwargs):\n",
    "        \"\"\"Deserialize as object\"\"\"\n",
    "        return CodexTag(**data)\n",
    "\n",
    "class CodexEntrySchema(Schema):\n",
    "    \"\"\"Schema for Codex objects\"\"\"\n",
    "\n",
    "    _id = fields.UUID(required=True)\n",
    "    created = fields.DateTime(required=True, dump_default=datetime.now(timezone.utc))\n",
    "\n",
    "    tags = fields.Dict(\n",
    "        keys=fields.Str(), values=fields.List(fields.Nested(CodexTagSchema)), required=True\n",
    "    )\n",
    "    cards = fields.String(required=True)\n",
    "    filename = fields.String(required=True)\n",
    "    raw_file = fields.String(required=True)\n",
    "    filetype = fields.String(required=True)\n",
    "    code = fields.String(required=True)\n",
    "    dbversion = fields.String(required=True)\n",
    "    comment_token = fields.String(required=True)\n",
    "    section_start_token = fields.String(required=True)\n",
    "    section_end_token = fields.String(required=True)\n",
    "    indent = fields.Integer(required=True)\n",
    "\n",
    "    # TODO: this shouldn't be necessary\n",
    "    @post_load\n",
    "    def create_codex(self, data, **kwargs):\n",
    "        \"\"\"Deserialize as object\"\"\"\n",
    "        Codex = FILE_CODEX_MAP[data[\"code\"]]\n",
    "        return Codex(**data)"
   ]
  },
  {
   "cell_type": "code",
   "execution_count": 5,
   "metadata": {},
   "outputs": [
    {
     "name": "stdout",
     "output_type": "stream",
     "text": [
      "Got kwargs {'cards': '', 'tags': {'': [<codex.models.codex.CodexTag object at 0x10b1bb190>, <codex.models.codex.CodexTag object at 0x137742050>, <codex.models.codex.CodexTag object at 0x10b1bb790>, <codex.models.codex.CodexTag object at 0x108f48b10>, <codex.models.codex.CodexTag object at 0x108f49b90>, <codex.models.codex.CodexTag object at 0x1088ff910>, <codex.models.codex.CodexTag object at 0x13771d790>, <codex.models.codex.CodexTag object at 0x13771c910>, <codex.models.codex.CodexTag object at 0x13771e050>, <codex.models.codex.CodexTag object at 0x13771fd50>, <codex.models.codex.CodexTag object at 0x13771c950>, <codex.models.codex.CodexTag object at 0x13771df50>, <codex.models.codex.CodexTag object at 0x13771c190>, <codex.models.codex.CodexTag object at 0x13771e4d0>, <codex.models.codex.CodexTag object at 0x13771c250>, <codex.models.codex.CodexTag object at 0x13771e390>, <codex.models.codex.CodexTag object at 0x13771e450>, <codex.models.codex.CodexTag object at 0x13771e250>, <codex.models.codex.CodexTag object at 0x13771ec10>, <codex.models.codex.CodexTag object at 0x13771ecd0>, <codex.models.codex.CodexTag object at 0x13771e610>, <codex.models.codex.CodexTag object at 0x13771ebd0>, <codex.models.codex.CodexTag object at 0x13771de50>, <codex.models.codex.CodexTag object at 0x13771c290>]}, 'filetype': 'INCAR', 'section_start_token': '', 'indent': 0, 'created': datetime.datetime(2023, 6, 27, 23, 35, 17, 386179, tzinfo=datetime.timezone(datetime.timedelta(0), '+0000')), 'code': 'vasp', 'section_end_token': '', 'comment_token': '! '}\n",
      "Got tags {'': [<codex.models.codex.CodexTag object at 0x10b1bb190>, <codex.models.codex.CodexTag object at 0x137742050>, <codex.models.codex.CodexTag object at 0x10b1bb790>, <codex.models.codex.CodexTag object at 0x108f48b10>, <codex.models.codex.CodexTag object at 0x108f49b90>, <codex.models.codex.CodexTag object at 0x1088ff910>, <codex.models.codex.CodexTag object at 0x13771d790>, <codex.models.codex.CodexTag object at 0x13771c910>, <codex.models.codex.CodexTag object at 0x13771e050>, <codex.models.codex.CodexTag object at 0x13771fd50>, <codex.models.codex.CodexTag object at 0x13771c950>, <codex.models.codex.CodexTag object at 0x13771df50>, <codex.models.codex.CodexTag object at 0x13771c190>, <codex.models.codex.CodexTag object at 0x13771e4d0>, <codex.models.codex.CodexTag object at 0x13771c250>, <codex.models.codex.CodexTag object at 0x13771e390>, <codex.models.codex.CodexTag object at 0x13771e450>, <codex.models.codex.CodexTag object at 0x13771e250>, <codex.models.codex.CodexTag object at 0x13771ec10>, <codex.models.codex.CodexTag object at 0x13771ecd0>, <codex.models.codex.CodexTag object at 0x13771e610>, <codex.models.codex.CodexTag object at 0x13771ebd0>, <codex.models.codex.CodexTag object at 0x13771de50>, <codex.models.codex.CodexTag object at 0x13771c290>]}, cards , filetype INCAR\n"
     ]
    }
   ],
   "source": [
    "dump = CodexEntrySchema().dump(vasp_codex)\n",
    "load = CodexEntrySchema().load(dump)"
   ]
  },
  {
   "cell_type": "code",
   "execution_count": 6,
   "metadata": {},
   "outputs": [
    {
     "data": {
      "text/plain": [
       "<codex.models.vasp_codex.VaspCodex at 0x137218390>"
      ]
     },
     "execution_count": 6,
     "metadata": {},
     "output_type": "execute_result"
    }
   ],
   "source": [
    "load"
   ]
  },
  {
   "cell_type": "code",
   "execution_count": 9,
   "metadata": {},
   "outputs": [
    {
     "data": {
      "text/plain": [
       "False"
      ]
     },
     "execution_count": 9,
     "metadata": {},
     "output_type": "execute_result"
    }
   ],
   "source": [
    "all((dump['tags'], dump['cards'], dump['filetype']))"
   ]
  },
  {
   "cell_type": "code",
   "execution_count": 6,
   "metadata": {},
   "outputs": [],
   "source": [
    "dump = CodexTagSchema().dump(espresso_codex.tags['bands'], many=True)\n",
    "loads = CodexTagSchema().load(dump, many=True)"
   ]
  },
  {
   "cell_type": "code",
   "execution_count": 8,
   "metadata": {},
   "outputs": [
    {
     "data": {
      "text/plain": [
       "\"  prefix      = 'bi4te3'               ! of files saved by program pw\""
      ]
     },
     "execution_count": 8,
     "metadata": {},
     "output_type": "execute_result"
    }
   ],
   "source": [
    "loads[0].to_string()"
   ]
  },
  {
   "cell_type": "code",
   "execution_count": 4,
   "metadata": {},
   "outputs": [
    {
     "data": {
      "text/plain": [
       "\"  prefix      = 'bi4te3'               ! of files saved by program pw\""
      ]
     },
     "execution_count": 4,
     "metadata": {},
     "output_type": "execute_result"
    }
   ],
   "source": [
    "espresso_codex.tags['bands'][0].to_string()"
   ]
  },
  {
   "cell_type": "code",
   "execution_count": 55,
   "metadata": {},
   "outputs": [
    {
     "name": "stdout",
     "output_type": "stream",
     "text": [
      "3954583e-94ba-41df-90f3-86d673ce5189\n",
      "83e594ee-ad85-4c81-b72f-ffa53d8ce9a4\n",
      "dff217b9190e4d1db5d118d09d0463f7\n",
      "4b364556c1954f32b15a5fbdc52511b9\n",
      "59f5fb0ea20840878cab45f8e1eb2c0f\n",
      "d606e50af4bf49fbb3344e666b3a0d69\n",
      "e44e5a84f8034db1a9fab5b391c2cd34\n"
     ]
    }
   ],
   "source": [
    "from codex.api.file_schemas import FileCodexQueryArgsSchema\n",
    "params = {'filetype': 'INCAR', 'code': 'vasp'}\n",
    "#params = {'_id': ['e44e5a84f8034db1a9fab5b391c2cd34', 'dff217b9190e4d1db5d118d09d0463f7']}\n",
    "#print(CodexEntryQueryArgsSchema().dump(params))\n",
    "x = requests.get(URL, params=params).json()\n",
    "for xx in x:\n",
    "    print(xx['_id'])"
   ]
  },
  {
   "cell_type": "code",
   "execution_count": 202,
   "metadata": {},
   "outputs": [],
   "source": [
    "import requests\n",
    "\n",
    "URL = \"http://localhost:5000/collections/fromfile\"\n",
    "data = {\"dbversion\": \"latest\", \"code\": \"vasp\"}\n",
    "filename1 = \"example/vasp/POSCAR_Fe3O4.vasp\"\n",
    "filename2 = \"example/vasp/INCAR_Fe3O4.vasp\"\n",
    "#filename1 = \"example/espresso/Bi2Te3_proj.in\"\n",
    "#filename2 = \"example/espresso/Si_bands.in\"\n",
    "files = [\n",
    "    (\"input_file\", (filename1, open(filename1, \"rb\"))),\n",
    "    (\"input_file\", (filename2, open(filename2, \"rb\"))),\n",
    "    #(\"dbversion\", (None, 'latest')),\n",
    "    #(\"code\", (None, 'vasp')),\n",
    "]\n",
    "x = requests.post(URL, files=files, params=data)\n",
    "#x.json()"
   ]
  },
  {
   "cell_type": "code",
   "execution_count": 203,
   "metadata": {},
   "outputs": [
    {
     "data": {
      "text/plain": [
       "{'_id': 'cdx-GJLACd89W2sl',\n",
       " 'code': 'vasp',\n",
       " 'created': '2023-06-26T23:50:49.592886+00:00',\n",
       " 'dbversion': '1687467268',\n",
       " 'entry_ids': ['cd0db0c5163e4a1fbdc4d988e9a69099',\n",
       "  '4d0049d6d5564636afd686592f43ef3d']}"
      ]
     },
     "execution_count": 203,
     "metadata": {},
     "output_type": "execute_result"
    }
   ],
   "source": [
    "x.json()"
   ]
  },
  {
   "cell_type": "code",
   "execution_count": 180,
   "metadata": {},
   "outputs": [],
   "source": [
    "URL = \"http://localhost:5000/collections/\"\n",
    "cdxid=\"cdx-4JB6Bs1wTu9x\"\n",
    "x = requests.get(URL+cdxid)"
   ]
  },
  {
   "cell_type": "code",
   "execution_count": 201,
   "metadata": {},
   "outputs": [
    {
     "ename": "AttributeError",
     "evalue": "'Cursor' object has no attribute 'count_documents'",
     "output_type": "error",
     "traceback": [
      "\u001b[0;31m---------------------------------------------------------------------------\u001b[0m",
      "\u001b[0;31mAttributeError\u001b[0m                            Traceback (most recent call last)",
      "Cell \u001b[0;32mIn[201], line 3\u001b[0m\n\u001b[1;32m      1\u001b[0m ids \u001b[39m=\u001b[39m [\u001b[39m'\u001b[39m\u001b[39md310e32060504edbb1029a0739423884\u001b[39m\u001b[39m'\u001b[39m, \u001b[39m'\u001b[39m\u001b[39md146022a653743069953ef440402717c\u001b[39m\u001b[39m'\u001b[39m]\n\u001b[1;32m      2\u001b[0m result \u001b[39m=\u001b[39m client[\u001b[39m'\u001b[39m\u001b[39mcodex\u001b[39m\u001b[39m'\u001b[39m][\u001b[39m'\u001b[39m\u001b[39mentries\u001b[39m\u001b[39m'\u001b[39m]\u001b[39m.\u001b[39mfind({\u001b[39m'\u001b[39m\u001b[39m_id\u001b[39m\u001b[39m'\u001b[39m: {\u001b[39m'\u001b[39m\u001b[39m$in\u001b[39m\u001b[39m'\u001b[39m: ids}})\n\u001b[0;32m----> 3\u001b[0m result\u001b[39m.\u001b[39;49mcount_documents()\n",
      "\u001b[0;31mAttributeError\u001b[0m: 'Cursor' object has no attribute 'count_documents'"
     ]
    }
   ],
   "source": [
    "ids = ['d310e32060504edbb1029a0739423884', 'd146022a653743069953ef440402717c']\n",
    "result = client['codex']['entries'].find({'_id': {'$in': ids}})\n",
    "result.count_documents()"
   ]
  },
  {
   "cell_type": "code",
   "execution_count": 200,
   "metadata": {},
   "outputs": [
    {
     "data": {
      "text/plain": [
       "2"
      ]
     },
     "execution_count": 200,
     "metadata": {},
     "output_type": "execute_result"
    }
   ],
   "source": [
    "len(list(result))"
   ]
  },
  {
   "cell_type": "code",
   "execution_count": 182,
   "metadata": {},
   "outputs": [
    {
     "data": {
      "text/plain": [
       "{'_id': 'cdx-4JB6Bs1wTu9x',\n",
       " 'code': 'vasp',\n",
       " 'created': '2023-06-26T22:29:01.847784+00:00',\n",
       " 'dbversion': '1687467268',\n",
       " 'entry_ids': ['a3d6d7f56e6843a19147ed6f923ed1c0',\n",
       "  '635d50aa3a7f411d86c31542b9b45320']}"
      ]
     },
     "execution_count": 182,
     "metadata": {},
     "output_type": "execute_result"
    }
   ],
   "source": [
    "x.json()"
   ]
  },
  {
   "cell_type": "code",
   "execution_count": 162,
   "metadata": {},
   "outputs": [
    {
     "data": {
      "text/plain": [
       "{'_id': 'cdx-PIHsL9HEXECR',\n",
       " 'code': 'espresso',\n",
       " 'created': '2023-06-26T22:14:35.813497+00:00',\n",
       " 'dbversion': '7.2',\n",
       " 'entry_ids': ['38610fd0eaf048479527832ac7d1bfa8',\n",
       "  'e994f0d4601f496e888698afce47e5b8']}"
      ]
     },
     "execution_count": 162,
     "metadata": {},
     "output_type": "execute_result"
    }
   ],
   "source": [
    "x.json()"
   ]
  },
  {
   "cell_type": "code",
   "execution_count": 160,
   "metadata": {},
   "outputs": [],
   "source": [
    "URL = \"http://localhost:5000/collections/\"\n",
    "cdxid = 'cdx-l9kO2ddFJf7B'\n",
    "url = URL+cdxid\n",
    "x = requests.get(url)"
   ]
  },
  {
   "cell_type": "code",
   "execution_count": 159,
   "metadata": {},
   "outputs": [
    {
     "data": {
      "text/plain": [
       "{'_id': 'cdx-l9kO2ddFJf7B',\n",
       " 'code': 'espresso',\n",
       " 'created': '2023-06-26T21:43:10.456670+00:00',\n",
       " 'dbversion': '7.2',\n",
       " 'entries': [{'_id': '23fc66ffcc974d9cb705a8efbad740d2',\n",
       "   'cards': '',\n",
       "   'code': 'espresso',\n",
       "   'code_pretty': 'Quantum ESPRESSO',\n",
       "   'comment_token': '! ',\n",
       "   'created': '2023-06-26T21:43:10.456355+00:00',\n",
       "   'filename': 'Bi2Te3_proj.in',\n",
       "   'filetype': 'projwfc',\n",
       "   'pad': ' ',\n",
       "   'section_end_token': '/',\n",
       "   'section_start_token': '&',\n",
       "   'tags': {'projwfc': [{'comment': 'of input file produced by pw',\n",
       "      'comment_pad': 10,\n",
       "      'id': 'prefix',\n",
       "      'name': 'prefix',\n",
       "      'tag_pad': 2,\n",
       "      'value': \"'bi2te3'\",\n",
       "      'value_pad': 1},\n",
       "     {'comment': 'directory containing the input data, i',\n",
       "      'comment_pad': 13,\n",
       "      'id': 'outdir',\n",
       "      'name': 'outdir',\n",
       "      'tag_pad': 2,\n",
       "      'value': \"'out'\",\n",
       "      'value_pad': 1},\n",
       "     {'comment': 'prefix for output files containing PDOS',\n",
       "      'comment_pad': 2,\n",
       "      'id': 'filpdos',\n",
       "      'name': 'filpdos',\n",
       "      'tag_pad': 1,\n",
       "      'value': \"'dos/Bi2Te3.dos'\",\n",
       "      'value_pad': 1},\n",
       "     {'comment': 'file containing the projections',\n",
       "      'comment_pad': 1,\n",
       "      'id': 'filproj',\n",
       "      'name': 'filproj',\n",
       "      'tag_pad': 1,\n",
       "      'value': \"'dos/Bi2Te3.proj'\",\n",
       "      'value_pad': 1}]}},\n",
       "  {'_id': 'b707d2dc67fd4d75bd36e106cff1d58a',\n",
       "   'cards': 'ATOMIC_SPECIES\\nSi     28.0855 Si.pbesol-n-rrkjus_psl.1.0.0.UPF\\nATOMIC_POSITIONS {alat}\\nSi           0.0000000000       0.0000000000       0.0000000000 \\nSi           0.2500000000       0.2500000000       0.2500000000 \\nK_POINTS crystal_b\\n12\\n   0.000   0.000   0.000 16 ! \\\\Gamma\\n   0.500   0.000   0.500 16 ! X\\n   0.500   0.250   0.750 16 ! W\\n   0.375   0.375   0.750 16 ! K\\n   0.000   0.000   0.000 16 ! \\\\Gamma\\n   0.500   0.500   0.500 16 ! L\\n   0.625   0.250   0.625 16 ! U\\n   0.500   0.250   0.750 16 ! W\\n   0.500   0.500   0.500 16 ! L\\n   0.375   0.375   0.750 16 ! K\\n   0.625   0.250   0.625 16 ! U\\n   0.500   0.000   0.500 16 ! X',\n",
       "   'code': 'espresso',\n",
       "   'code_pretty': 'Quantum ESPRESSO',\n",
       "   'comment_token': '! ',\n",
       "   'created': '2023-06-26T21:43:10.456355+00:00',\n",
       "   'filename': 'Si_bands.in',\n",
       "   'filetype': 'pw',\n",
       "   'pad': ' ',\n",
       "   'section_end_token': '/',\n",
       "   'section_start_token': '&',\n",
       "   'tags': {'control': [{'comment': 'A string describing the task to be performed',\n",
       "      'comment_pad': 5,\n",
       "      'id': 'calculation',\n",
       "      'name': 'calculation',\n",
       "      'tag_pad': 6,\n",
       "      'value': \"'bands'\",\n",
       "      'value_pad': 1},\n",
       "     {'comment': 'Convergence threshold on total energy',\n",
       "      'comment_pad': 7,\n",
       "      'id': 'etot_conv_thr',\n",
       "      'name': 'etot_conv_thr',\n",
       "      'tag_pad': 4,\n",
       "      'value': '2e-05',\n",
       "      'value_pad': 1},\n",
       "     {'comment': 'Convergence threshold on forces',\n",
       "      'comment_pad': 6,\n",
       "      'id': 'forc_conv_thr',\n",
       "      'name': 'forc_conv_thr',\n",
       "      'tag_pad': 4,\n",
       "      'value': '0.0001',\n",
       "      'value_pad': 1},\n",
       "     {'comment': 'input, temporary, output files are found in this directory,',\n",
       "      'comment_pad': 4,\n",
       "      'id': 'outdir',\n",
       "      'name': 'outdir',\n",
       "      'tag_pad': 11,\n",
       "      'value': \"'./out/'\",\n",
       "      'value_pad': 1},\n",
       "     {'comment': 'prepended to input/output filenames',\n",
       "      'comment_pad': 8,\n",
       "      'id': 'prefix',\n",
       "      'name': 'prefix',\n",
       "      'tag_pad': 11,\n",
       "      'value': \"'si'\",\n",
       "      'value_pad': 1},\n",
       "     {'comment': 'directory containing pseudopotential files',\n",
       "      'comment_pad': 1,\n",
       "      'id': 'pseudo_dir',\n",
       "      'name': 'pseudo_dir',\n",
       "      'tag_pad': 7,\n",
       "      'value': \"'./pseudo/'\",\n",
       "      'value_pad': 1},\n",
       "     {'comment': 'calculate forces',\n",
       "      'comment_pad': 6,\n",
       "      'id': 'tprnfor',\n",
       "      'name': 'tprnfor',\n",
       "      'tag_pad': 10,\n",
       "      'value': '.TRUE.',\n",
       "      'value_pad': 1},\n",
       "     {'comment': 'calculate stress',\n",
       "      'comment_pad': 6,\n",
       "      'id': 'tstress',\n",
       "      'name': 'tstress',\n",
       "      'tag_pad': 10,\n",
       "      'value': '.TRUE.',\n",
       "      'value_pad': 1},\n",
       "     {'comment': 'Currently two verbosity levels are implemented',\n",
       "      'comment_pad': 6,\n",
       "      'id': 'verbosity',\n",
       "      'name': 'verbosity',\n",
       "      'tag_pad': 8,\n",
       "      'value': \"'high'\",\n",
       "      'value_pad': 1}],\n",
       "    'electrons': [{'comment': 'Convergence threshold for selfconsistency',\n",
       "      'comment_pad': 7,\n",
       "      'id': 'conv_thr',\n",
       "      'name': 'conv_thr',\n",
       "      'tag_pad': 9,\n",
       "      'value': '4e-10',\n",
       "      'value_pad': 1},\n",
       "     {'comment': 'maximum number of iterations in a scf step',\n",
       "      'comment_pad': 10,\n",
       "      'id': 'electron_maxstep',\n",
       "      'name': 'electron_maxstep',\n",
       "      'tag_pad': 1,\n",
       "      'value': '80',\n",
       "      'value_pad': 1},\n",
       "     {'comment': 'mixing factor for self',\n",
       "      'comment_pad': 9,\n",
       "      'id': 'mixing_beta',\n",
       "      'name': 'mixing_beta',\n",
       "      'tag_pad': 6,\n",
       "      'value': '0.4',\n",
       "      'value_pad': 1}],\n",
       "    'system': [{'comment': 'Kinetic energy cutoff',\n",
       "      'comment_pad': 7,\n",
       "      'id': 'ecutrho',\n",
       "      'name': 'ecutrho',\n",
       "      'tag_pad': 10,\n",
       "      'value': '240.0',\n",
       "      'value_pad': 1},\n",
       "     {'comment': 'kinetic energy cutoff',\n",
       "      'comment_pad': 8,\n",
       "      'id': 'ecutwfc',\n",
       "      'name': 'ecutwfc',\n",
       "      'tag_pad': 10,\n",
       "      'value': '30.0',\n",
       "      'value_pad': 1},\n",
       "     {'comment': 'Cubic F (fcc) lattice',\n",
       "      'comment_pad': 11,\n",
       "      'id': 'ibrav',\n",
       "      'name': 'ibrav',\n",
       "      'tag_pad': 12,\n",
       "      'value': '2',\n",
       "      'value_pad': 1},\n",
       "     {'comment': 'Crystallographic constants',\n",
       "      'comment_pad': 7,\n",
       "      'id': 'celldm',\n",
       "      'name': 'celldm(1)',\n",
       "      'tag_pad': 8,\n",
       "      'value': '10.26',\n",
       "      'value_pad': 1},\n",
       "     {'comment': 'number of atoms in the unit cell',\n",
       "      'comment_pad': 11,\n",
       "      'id': 'nat',\n",
       "      'name': 'nat',\n",
       "      'tag_pad': 14,\n",
       "      'value': '2',\n",
       "      'value_pad': 1},\n",
       "     {'comment': 'if',\n",
       "      'comment_pad': 5,\n",
       "      'id': 'nosym',\n",
       "      'name': 'nosym',\n",
       "      'tag_pad': 12,\n",
       "      'value': '.FALSE.',\n",
       "      'value_pad': 1},\n",
       "     {'comment': 'number of types of atoms in the unit cell',\n",
       "      'comment_pad': 11,\n",
       "      'id': 'ntyp',\n",
       "      'name': 'ntyp',\n",
       "      'tag_pad': 13,\n",
       "      'value': '1',\n",
       "      'value_pad': 1},\n",
       "     {'comment': 'for insulators with a gap',\n",
       "      'comment_pad': 5,\n",
       "      'id': 'occupations',\n",
       "      'name': 'occupations',\n",
       "      'tag_pad': 6,\n",
       "      'value': \"'fixed'\",\n",
       "      'value_pad': 1},\n",
       "     {'comment': 'Number of electronic states',\n",
       "      'comment_pad': 11,\n",
       "      'id': 'nbnd',\n",
       "      'name': 'nbnd',\n",
       "      'tag_pad': 13,\n",
       "      'value': '8',\n",
       "      'value_pad': 1}]}}],\n",
       " 'entry_ids': ['23fc66ffcc974d9cb705a8efbad740d2',\n",
       "  'b707d2dc67fd4d75bd36e106cff1d58a']}"
      ]
     },
     "execution_count": 159,
     "metadata": {},
     "output_type": "execute_result"
    }
   ],
   "source": [
    "x.json()"
   ]
  },
  {
   "cell_type": "code",
   "execution_count": 210,
   "metadata": {},
   "outputs": [
    {
     "data": {
      "text/plain": [
       "{'_id': '16a805609f3148f68c218850e5d738d5',\n",
       " 'cards': '',\n",
       " 'code': 'vasp',\n",
       " 'comment_token': '! ',\n",
       " 'created': '2023-06-27T08:24:34.096480+00:00',\n",
       " 'dbversion': '1687467268',\n",
       " 'filename': 'INCAR_Fe3O4.vasp',\n",
       " 'filetype': 'INCAR',\n",
       " 'indent': 0,\n",
       " 'pad': ' ',\n",
       " 'section_end_token': '',\n",
       " 'section_start_token': '',\n",
       " 'tags': {'': [{'comment': 'The \"title string\" defined by SYSTEM is for the user only and should help the user to identify what he/she wants to do with this specific input file.',\n",
       "    'comment_pad': 10,\n",
       "    'id': 'SYSTEM',\n",
       "    'name': 'SYSTEM',\n",
       "    'tag_pad': 3,\n",
       "    'value': 'Supercell',\n",
       "    'value_pad': 1},\n",
       "   {'comment': 'NSCF calculation, read from CHGCAR',\n",
       "    'comment_pad': 17,\n",
       "    'id': 'ICHARG',\n",
       "    'name': 'ICHARG',\n",
       "    'tag_pad': 3,\n",
       "    'value': '11',\n",
       "    'value_pad': 1},\n",
       "   {'comment': 'specifies the total number of KS or QP orbitals in the calculation.',\n",
       "    'comment_pad': 16,\n",
       "    'id': 'NBANDS',\n",
       "    'name': 'NBANDS',\n",
       "    'tag_pad': 3,\n",
       "    'value': '192',\n",
       "    'value_pad': 1},\n",
       "   {'comment': 'Revised PBE for solids (PBEsol GGA)',\n",
       "    'comment_pad': 17,\n",
       "    'id': 'GGA',\n",
       "    'name': 'GGA',\n",
       "    'tag_pad': 6,\n",
       "    'value': 'Ps',\n",
       "    'value_pad': 1},\n",
       "   {'comment': 'Spin-polarized calculation',\n",
       "    'comment_pad': 18,\n",
       "    'id': 'ISPIN',\n",
       "    'name': 'ISPIN',\n",
       "    'tag_pad': 4,\n",
       "    'value': '2',\n",
       "    'value_pad': 1},\n",
       "   {'comment': 'Specifies the initial magnetic moment for each atom, if and only if ICHARG=2, or if  ICHARG=1 and the CHGCAR file contains no magnetisation density',\n",
       "    'comment_pad': 1,\n",
       "    'id': 'MAGMOM',\n",
       "    'name': 'MAGMOM',\n",
       "    'tag_pad': 3,\n",
       "    'value': '4*4.0 2*-4.0 8*0.0',\n",
       "    'value_pad': 1},\n",
       "   {'comment': 'specifies the cutoff energy for the plane-wave-basis set in eV.',\n",
       "    'comment_pad': 16,\n",
       "    'id': 'ENCUT',\n",
       "    'name': 'ENCUT',\n",
       "    'tag_pad': 4,\n",
       "    'value': '800',\n",
       "    'value_pad': 1},\n",
       "   {'comment': 'specifies the global break condition for the electronic SC-loop. EDIFF is specified in units of eV.',\n",
       "    'comment_pad': 14,\n",
       "    'id': 'EDIFF',\n",
       "    'name': 'EDIFF',\n",
       "    'tag_pad': 4,\n",
       "    'value': '1e-07',\n",
       "    'value_pad': 1},\n",
       "   {'comment': 'Compute: forces, stress tensor. DOF: positions, cell shape and volume',\n",
       "    'comment_pad': 18,\n",
       "    'id': 'ISIF',\n",
       "    'name': 'ISIF',\n",
       "    'tag_pad': 5,\n",
       "    'value': '3',\n",
       "    'value_pad': 1},\n",
       "   {'comment': 'defines the break condition for the ionic relaxation loop.',\n",
       "    'comment_pad': 13,\n",
       "    'id': 'EDIFFG',\n",
       "    'name': 'EDIFFG',\n",
       "    'tag_pad': 3,\n",
       "    'value': '-0.002',\n",
       "    'value_pad': 1},\n",
       "   {'comment': 'Ionic relaxation (conjugate gradient)',\n",
       "    'comment_pad': 18,\n",
       "    'id': 'IBRION',\n",
       "    'name': 'IBRION',\n",
       "    'tag_pad': 3,\n",
       "    'value': '2',\n",
       "    'value_pad': 1},\n",
       "   {'comment': 'sets the maximum number of ionic steps.',\n",
       "    'comment_pad': 18,\n",
       "    'id': 'NSW',\n",
       "    'name': 'NSW',\n",
       "    'tag_pad': 6,\n",
       "    'value': '0',\n",
       "    'value_pad': 1},\n",
       "   {'comment': \"specifies the minimal mixing parameter in Kerker's initial approximation to the charge-dielectric function used in the Broyden/Pulay mixing scheme (IMIX=4, INIMIX=1).\",\n",
       "    'comment_pad': 15,\n",
       "    'id': 'AMIN',\n",
       "    'name': 'AMIN',\n",
       "    'tag_pad': 5,\n",
       "    'value': '0.05',\n",
       "    'value_pad': 1},\n",
       "   {'comment': 'specifies the maximum number of steps stored in the Broyden mixer (IMIX=4).',\n",
       "    'comment_pad': 17,\n",
       "    'id': 'MAXMIX',\n",
       "    'name': 'MAXMIX',\n",
       "    'tag_pad': 3,\n",
       "    'value': '40',\n",
       "    'value_pad': 1},\n",
       "   {'comment': 'include non-spherical contributions related to the gradient of the density in the PAW spheres.',\n",
       "    'comment_pad': 13,\n",
       "    'id': 'LASPH',\n",
       "    'name': 'LASPH',\n",
       "    'tag_pad': 4,\n",
       "    'value': '.TRUE.',\n",
       "    'value_pad': 1},\n",
       "   {'comment': '=.TRUE. switches on DFT+U.',\n",
       "    'comment_pad': 13,\n",
       "    'id': 'LDAU',\n",
       "    'name': 'LDAU',\n",
       "    'tag_pad': 5,\n",
       "    'value': '.TRUE.',\n",
       "    'value_pad': 1},\n",
       "   {'comment': 'Rotationally invariant DFT+U (Dudarev et al.)',\n",
       "    'comment_pad': 18,\n",
       "    'id': 'LDAUTYPE',\n",
       "    'name': 'LDAUTYPE',\n",
       "    'tag_pad': 1,\n",
       "    'value': '2',\n",
       "    'value_pad': 1},\n",
       "   {'comment': 'specifies the l-quantum number for which the on-site interaction is added.',\n",
       "    'comment_pad': 15,\n",
       "    'id': 'LDAUL',\n",
       "    'name': 'LDAUL',\n",
       "    'tag_pad': 4,\n",
       "    'value': '2 -1',\n",
       "    'value_pad': 1},\n",
       "   {'comment': 'Sets the effective on-site Coulomb interactions (eV).',\n",
       "    'comment_pad': 14,\n",
       "    'id': 'LDAUU',\n",
       "    'name': 'LDAUU',\n",
       "    'tag_pad': 4,\n",
       "    'value': '4.5 0',\n",
       "    'value_pad': 1},\n",
       "   {'comment': 'Sets the effective on-site exchange interactions (eV).',\n",
       "    'comment_pad': 16,\n",
       "    'id': 'LDAUJ',\n",
       "    'name': 'LDAUJ',\n",
       "    'tag_pad': 4,\n",
       "    'value': '0 0',\n",
       "    'value_pad': 1},\n",
       "   {'comment': 'controls up to which l-quantum number the one-center PAW charge densities are passed through the charge density mixer and written to the CHGCAR file.',\n",
       "    'comment_pad': 18,\n",
       "    'id': 'LMAXMIX',\n",
       "    'name': 'LMAXMIX',\n",
       "    'tag_pad': 2,\n",
       "    'value': '4',\n",
       "    'value_pad': 1},\n",
       "   {'comment': 'Gaussian smearing',\n",
       "    'comment_pad': 18,\n",
       "    'id': 'ISMEAR',\n",
       "    'name': 'ISMEAR',\n",
       "    'tag_pad': 3,\n",
       "    'value': '0',\n",
       "    'value_pad': 1},\n",
       "   {'comment': 'specifies the width of the smearing in eV.',\n",
       "    'comment_pad': 15,\n",
       "    'id': 'SIGMA',\n",
       "    'name': 'SIGMA',\n",
       "    'tag_pad': 4,\n",
       "    'value': '0.02',\n",
       "    'value_pad': 1},\n",
       "   {'comment': 'Write DOSCAR and lm-decomposed PROCAR',\n",
       "    'comment_pad': 17,\n",
       "    'id': 'LORBIT',\n",
       "    'name': 'LORBIT',\n",
       "    'tag_pad': 3,\n",
       "    'value': '11',\n",
       "    'value_pad': 1}]}}"
      ]
     },
     "execution_count": 210,
     "metadata": {},
     "output_type": "execute_result"
    }
   ],
   "source": [
    "requests.get('http://127.0.0.1:5000/entries/16a805609f3148f68c218850e5d738d5').json()"
   ]
  },
  {
   "cell_type": "code",
   "execution_count": 118,
   "metadata": {},
   "outputs": [
    {
     "data": {
      "text/plain": [
       "'2023-06-26T21:03:49.944628+00:00'"
      ]
     },
     "execution_count": 118,
     "metadata": {},
     "output_type": "execute_result"
    }
   ],
   "source": [
    "list(client['codex']['entries'].find())[20]['created']"
   ]
  },
  {
   "cell_type": "code",
   "execution_count": 145,
   "metadata": {},
   "outputs": [
    {
     "name": "stdout",
     "output_type": "stream",
     "text": [
      "2023-06-26T21:48:12.201933+00:00\n"
     ]
    },
    {
     "data": {
      "text/plain": [
       "datetime.datetime(2023, 6, 26, 21, 48, 12, 201933, tzinfo=datetime.timezone.utc)"
      ]
     },
     "execution_count": 145,
     "metadata": {},
     "output_type": "execute_result"
    }
   ],
   "source": [
    "from datetime import datetime, timezone\n",
    "timestamp = datetime.now(timezone.utc).isoformat()\n",
    "print(timestamp)\n",
    "datetime.fromisoformat(timestamp)"
   ]
  },
  {
   "cell_type": "code",
   "execution_count": 104,
   "metadata": {},
   "outputs": [
    {
     "data": {
      "text/plain": [
       "{'SYSTEM': 'Supercell',\n",
       " 'ICHARG': 11,\n",
       " 'NBANDS': 192,\n",
       " 'GGA': 'Ps',\n",
       " 'ISPIN': 2,\n",
       " 'MAGMOM': [4, 4, 4, 4, -4, -4, 0, 0, 0, 0, 0, 0, 0, 0],\n",
       " 'ENCUT': 800,\n",
       " 'EDIFF': 1e-07,\n",
       " 'ISIF': 3,\n",
       " 'EDIFFG': -0.002,\n",
       " 'IBRION': 2,\n",
       " 'NSW': 0,\n",
       " 'AMIN': 0.05,\n",
       " 'MAXMIX': 40,\n",
       " 'LASPH': True,\n",
       " 'LDAU': True,\n",
       " 'LDAUTYPE': 2,\n",
       " 'LDAUL': [2, -1],\n",
       " 'LDAUU': [4.5, 0],\n",
       " 'LDAUJ': [0, 0],\n",
       " 'LMAXMIX': 4,\n",
       " 'ISMEAR': 0,\n",
       " 'SIGMA': 0.02,\n",
       " 'LORBIT': 11}"
      ]
     },
     "execution_count": 104,
     "metadata": {},
     "output_type": "execute_result"
    }
   ],
   "source": [
    "\n",
    "from pymatgen.io.vasp.inputs import Incar\n",
    "with open('example/vasp/INCAR_Fe3O4.vasp', 'r') as f:\n",
    "    content = f.read()\n",
    "with tempfile.NamedTemporaryFile() as tmp:\n",
    "    with open(tmp.name, 'w') as f:\n",
    "        f.write(content)\n",
    "    incar = Incar.from_file(tmp.name)\n",
    "incar"
   ]
  },
  {
   "cell_type": "code",
   "execution_count": null,
   "metadata": {},
   "outputs": [],
   "source": []
  },
  {
   "cell_type": "code",
   "execution_count": 36,
   "metadata": {},
   "outputs": [
    {
     "data": {
      "text/plain": [
       "b'--0abbef9aaf04e22dff326c19501e43d8\\r\\nContent-Disposition: form-data; name=\"file\"; filename=\"example/vasp/POSCAR_Fe3O4.vasp\"\\r\\n\\r\\nFe6 O8                                  \\n   1.00000000000000     \\n     5.9239884022792371    0.0000000000000000    0.0000000000000000\\n     2.9619942011396185    5.1303244481330896   -0.0000000000006391\\n     2.9619942011396185    1.7101081494098196    4.8369162758792656\\n   Fe   O \\n     6     8\\nDirect\\n  0.1250000000000000  0.6250000000000000  0.6250000000000000\\n  0.6250000000000000  0.1250000000000000  0.6250000000000000\\n  0.6250000000000000  0.6250000000000000  0.1250000000000000\\n  0.6250000000000000  0.6250000000000000  0.6250000000000000\\n  0.2500000000000000  0.2500000000000000  0.2500000000000000\\n  0.0000000000000000  0.0000000000000000  0.0000000000000000\\n  0.8698034440847735  0.3905896077456745  0.8698034440847806\\n  0.3801965259152240  0.3801965259152169  0.8594103922543255\\n  0.3801965259152240  0.3801965259152240  0.3801965259152240\\n  0.8698034440847735  0.8698034440847806  0.3905896077456745\\n  0.8594103922543255  0.3801965259152240  0.3801965259152240\\n  0.8698034440847735  0.8698034440847735  0.8698034440847735\\n  0.3801965259152240  0.8594103922543255  0.3801965259152169\\n  0.3905896077456745  0.8698034440847735  0.8698034440847735\\n \\n  0.00000000E+00  0.00000000E+00  0.00000000E+00\\n  0.00000000E+00  0.00000000E+00  0.00000000E+00\\n  0.00000000E+00  0.00000000E+00  0.00000000E+00\\n  0.00000000E+00  0.00000000E+00  0.00000000E+00\\n  0.00000000E+00  0.00000000E+00  0.00000000E+00\\n  0.00000000E+00  0.00000000E+00  0.00000000E+00\\n  0.00000000E+00  0.00000000E+00  0.00000000E+00\\n  0.00000000E+00  0.00000000E+00  0.00000000E+00\\n  0.00000000E+00  0.00000000E+00  0.00000000E+00\\n  0.00000000E+00  0.00000000E+00  0.00000000E+00\\n  0.00000000E+00  0.00000000E+00  0.00000000E+00\\n  0.00000000E+00  0.00000000E+00  0.00000000E+00\\n  0.00000000E+00  0.00000000E+00  0.00000000E+00\\n  0.00000000E+00  0.00000000E+00  0.00000000E+00\\n\\r\\n--0abbef9aaf04e22dff326c19501e43d8\\r\\nContent-Disposition: form-data; name=\"file\"; filename=\"example/vasp/INCAR_Fe3O4.vasp\"\\r\\n\\r\\nSYSTEM = supercell\\n#LSORBIT = .TRUE.\\nICHARG = 11\\nNBANDS = 192\\nGGA = PS\\nISPIN = 2\\nMAGMOM = 4 4 4 4 -4 -4 8*0\\nENCUT = 800\\nEDIFF = 1E-7\\n\\nISIF = 3\\nEDIFFG = -0.002\\nIBRION = 2\\nNSW = 0\\nAMIN = 0.05\\nMAXMIX = 40\\nLASPH = .TRUE.\\n\\n#LSDA+U\\nLDAU = .TRUE\\nLDAUTYPE = 2\\nLDAUL = 2 -1\\nLDAUU =  4.5 0\\nLDAUJ = 0 0 \\nLMAXMIX = 4\\n\\nISMEAR = 0\\nSIGMA = 0.02\\n\\n#LREAL = Auto\\nLORBIT = 11\\n\\r\\n--0abbef9aaf04e22dff326c19501e43d8--\\r\\n'"
      ]
     },
     "execution_count": 36,
     "metadata": {},
     "output_type": "execute_result"
    }
   ],
   "source": [
    "x.request.body"
   ]
  },
  {
   "cell_type": "code",
   "execution_count": 81,
   "metadata": {},
   "outputs": [],
   "source": [
    "result = client['codex']['entries'].delete_one({'_id': 'dff217b9190e4d1db5d118d09d0463f7'})"
   ]
  },
  {
   "cell_type": "code",
   "execution_count": 88,
   "metadata": {},
   "outputs": [
    {
     "data": {
      "text/plain": [
       "<Response [204]>"
      ]
     },
     "execution_count": 88,
     "metadata": {},
     "output_type": "execute_result"
    }
   ],
   "source": [
    "URL = 'http://localhost:5000/entries/d606e50af4bf49fbb3344e666b3a0d69'\n",
    "requests.delete(URL)"
   ]
  },
  {
   "cell_type": "code",
   "execution_count": 85,
   "metadata": {},
   "outputs": [
    {
     "name": "stdout",
     "output_type": "stream",
     "text": [
      "3954583e-94ba-41df-90f3-86d673ce5189\n",
      "83e594ee-ad85-4c81-b72f-ffa53d8ce9a4\n",
      "4b364556c1954f32b15a5fbdc52511b9\n",
      "59f5fb0ea20840878cab45f8e1eb2c0f\n",
      "d606e50af4bf49fbb3344e666b3a0d69\n",
      "e44e5a84f8034db1a9fab5b391c2cd34\n"
     ]
    }
   ],
   "source": [
    "import requests\n",
    "URL = 'http://localhost:5000/entries'\n",
    "#from codex.api.schemas import CodexEntryQueryArgsSchema\n",
    "#print(CodexEntryQueryArgsSchema().load(params))\n",
    "params = {'filetype': 'INCAR'}\n",
    "x = requests.get(URL, params=params).json()\n",
    "for xx in x:\n",
    "    print(xx['_id'])"
   ]
  },
  {
   "cell_type": "code",
   "execution_count": 37,
   "metadata": {},
   "outputs": [],
   "source": [
    "import requests\n",
    "from codex.models.vasp import VaspFileCodex\n",
    "from codex.models.espresso import EspressoFileCodex\n",
    "from marshmallow import Schema, fields, validate, ValidationError, pre_dump, pre_load\n",
    "from codex.api.file_schemas import FileCodexSchema\n",
    "\n",
    "codex = VaspFileCodex('example/vasp/INCAR_HfTe5.vasp', 'latest', client)\n",
    "codex1 = VaspFileCodex('example/vasp/POSCAR_Fe3O4.vasp', 'latest', client)\n",
    "codex2 = EspressoFileCodex('example/espresso/bi4te3_bandsx.in', 'latest', client)\n",
    "data = FileCodexSchema().dump([codex], many=True)\n",
    "#print(data.keys())\n",
    "#double_dump = CodexEntrySchema().dump(data)\n",
    "#double_dump.keys()"
   ]
  },
  {
   "attachments": {},
   "cell_type": "markdown",
   "metadata": {},
   "source": [
    "# Add to MongoDB"
   ]
  },
  {
   "cell_type": "code",
   "execution_count": null,
   "metadata": {},
   "outputs": [],
   "source": [
    "base_db_dir = resources.files(\"codex.database\")\n",
    "\n",
    "json_files = glob.glob(os.path.join(base_db_dir, \"json\", \"*.json\"))\n",
    "for file in json_files:\n",
    "    insert_json(client, file)"
   ]
  },
  {
   "cell_type": "code",
   "execution_count": null,
   "metadata": {},
   "outputs": [],
   "source": [
    "database_names = client.list_database_names()\n",
    "available_versions = [\n",
    "    match.group(1)\n",
    "    for f in database_names\n",
    "    for match in [re.match(rf\"{code}-([0-9]+\\^[0-9]+(?:\\^[0-9]+)?)\", f)]\n",
    "    if match\n",
    "]\n",
    "print(available_versions)"
   ]
  },
  {
   "cell_type": "code",
   "execution_count": null,
   "metadata": {},
   "outputs": [],
   "source": [
    "get_database(client, 'Quantum ESPRESSO', '7.1')"
   ]
  },
  {
   "attachments": {},
   "cell_type": "markdown",
   "metadata": {},
   "source": [
    "# VASP database"
   ]
  },
  {
   "cell_type": "code",
   "execution_count": null,
   "metadata": {},
   "outputs": [],
   "source": [
    "db = vasp_generate_json()"
   ]
  },
  {
   "attachments": {},
   "cell_type": "markdown",
   "metadata": {},
   "source": [
    "# QE database"
   ]
  },
  {
   "cell_type": "code",
   "execution_count": null,
   "metadata": {},
   "outputs": [],
   "source": [
    "versions = ['6.7', '6.8', '7.0', '7.1', '7.2']\n",
    "database_dir = resources.files(\"codex.database\")\n",
    "\n",
    "for v in versions:\n",
    "    #run_helpdoc(v)\n",
    "    db = espresso_generate_json(v)"
   ]
  },
  {
   "attachments": {},
   "cell_type": "markdown",
   "metadata": {},
   "source": [
    "# Generate Codex"
   ]
  },
  {
   "cell_type": "code",
   "execution_count": null,
   "metadata": {},
   "outputs": [],
   "source": [
    "from importlib import resources\n",
    "filename = 'example/sr3pbo_bands.in'\n",
    "database_dir = resources.files(\"codex.database\")\n",
    "version = '7.2'\n",
    "# Make .dft-tutor directory in current dir if it doesn't exist\n",
    "codex = Codex(filename, version)\n"
   ]
  },
  {
   "cell_type": "code",
   "execution_count": null,
   "metadata": {},
   "outputs": [],
   "source": [
    "print(codex.filename)\n",
    "print(codex.code)\n",
    "print(codex.package)\n",
    "print(codex.tags['control'])"
   ]
  },
  {
   "cell_type": "code",
   "execution_count": null,
   "metadata": {},
   "outputs": [],
   "source": [
    "from importlib import resources\n",
    "import os\n",
    "from base64 import b64decode\n",
    "import json\n",
    "import shutil\n",
    "\n",
    "dbversion='7.2'\n",
    "dir='static'\n",
    "\n",
    "base_db_dir = resources.files(\"codex.database\")\n",
    "code = \"qe\"  # Need better terminology\n",
    "database_dir = os.path.join(base_db_dir, f\"{code}-{dbversion}\")\n",
    "database_filename = os.path.join(database_dir, \"database.json\")\n",
    "\n",
    "with open(database_filename) as f:\n",
    "    database = json.load(f)\n",
    "\n",
    "working_dir = os.path.abspath(dir)\n",
    "tags_dir = os.path.join(working_dir, \"tags-qe\")\n",
    "if os.path.exists(tags_dir):\n",
    "    shutil.rmtree(tags_dir, ignore_errors=True)\n",
    "os.mkdir(tags_dir)\n",
    "for p, package in database.items():\n",
    "    print(p)\n",
    "    os.mkdir(os.path.join(tags_dir, p))\n",
    "    for nl, namelist in package.items():\n",
    "        print(nl)\n",
    "        os.mkdir(os.path.join(tags_dir, p, nl))\n",
    "        for tag, v in namelist.items():\n",
    "            print(tag, v)\n",
    "            if v[\"html\"] != 'No documentation was found for this tag.':\n",
    "                webpage = b64decode(v[\"html\"]).decode(\"utf-8\")\n",
    "                path = os.path.join(tags_dir, p, nl, f\"{tag}.html\")\n",
    "                with open(path, \"w\") as f:\n",
    "                    f.write(webpage)"
   ]
  }
 ],
 "metadata": {
  "kernelspec": {
   "display_name": "dft-tutor-dev",
   "language": "python",
   "name": "python3"
  },
  "language_info": {
   "codemirror_mode": {
    "name": "ipython",
    "version": 3
   },
   "file_extension": ".py",
   "mimetype": "text/x-python",
   "name": "python",
   "nbconvert_exporter": "python",
   "pygments_lexer": "ipython3",
   "version": "3.11.3"
  },
  "orig_nbformat": 4
 },
 "nbformat": 4,
 "nbformat_minor": 2
}
