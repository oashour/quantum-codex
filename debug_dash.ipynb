{
 "cells": [
  {
   "cell_type": "code",
   "execution_count": 2,
   "metadata": {},
   "outputs": [],
   "source": [
    "import dash\n",
    "from codex import Codex"
   ]
  },
  {
   "cell_type": "code",
   "execution_count": 2,
   "metadata": {},
   "outputs": [],
   "source": [
    "tag = \"test\"\n",
    "link = \"https://www.google.com\"\n",
    "file_id = \"0\"\n",
    "link = dash.html.A(\n",
    "    id=tag, href=link, className=\"tag-link\", children=tag, **{\"data-fileid\": file_id}\n",
    ")"
   ]
  },
  {
   "cell_type": "code",
   "execution_count": 5,
   "metadata": {},
   "outputs": [],
   "source": [
    "link.children += ' ! hello'"
   ]
  },
  {
   "cell_type": "code",
   "execution_count": 7,
   "metadata": {},
   "outputs": [
    {
     "ename": "AttributeError",
     "evalue": "'NmlKey' object has no attribute 'Br'",
     "output_type": "error",
     "traceback": [
      "\u001b[0;31m---------------------------------------------------------------------------\u001b[0m",
      "\u001b[0;31mAttributeError\u001b[0m                            Traceback (most recent call last)",
      "Cell \u001b[0;32mIn[7], line 1\u001b[0m\n\u001b[0;32m----> 1\u001b[0m Codex([\u001b[39m'\u001b[39;49m\u001b[39mexample/sr3pbo_bands.in\u001b[39;49m\u001b[39m'\u001b[39;49m], \u001b[39m'\u001b[39;49m\u001b[39m7.2\u001b[39;49m\u001b[39m'\u001b[39;49m)\n",
      "File \u001b[0;32m~/code/dft-codex/codex/codex.py:82\u001b[0m, in \u001b[0;36mCodex.__init__\u001b[0;34m(self, input_filenames, dbversion)\u001b[0m\n\u001b[1;32m     80\u001b[0m     \u001b[39mfor\u001b[39;00m file_id, file \u001b[39min\u001b[39;00m \u001b[39menumerate\u001b[39m(input_filenames):\n\u001b[1;32m     81\u001b[0m         file \u001b[39m=\u001b[39m os\u001b[39m.\u001b[39mpath\u001b[39m.\u001b[39mabspath(file)\n\u001b[0;32m---> 82\u001b[0m         body_html\u001b[39m.\u001b[39mappend(\u001b[39mself\u001b[39;49m\u001b[39m.\u001b[39;49m_get_qe_html(file, file_id))\n\u001b[1;32m     83\u001b[0m \u001b[39melif\u001b[39;00m \u001b[39mself\u001b[39m\u001b[39m.\u001b[39mcode \u001b[39m==\u001b[39m \u001b[39m\"\u001b[39m\u001b[39mvasp\u001b[39m\u001b[39m\"\u001b[39m:\n\u001b[1;32m     84\u001b[0m     \u001b[39mfor\u001b[39;00m file_id, file \u001b[39min\u001b[39;00m \u001b[39menumerate\u001b[39m(input_filenames):\n",
      "File \u001b[0;32m~/code/dft-codex/codex/codex.py:171\u001b[0m, in \u001b[0;36mCodex._get_qe_html\u001b[0;34m(self, input_filename, file_id)\u001b[0m\n\u001b[1;32m    168\u001b[0m preview_column \u001b[39m=\u001b[39m dash\u001b[39m.\u001b[39mhtml\u001b[39m.\u001b[39mDiv(className\u001b[39m=\u001b[39m\u001b[39m\"\u001b[39m\u001b[39mcolumn right\u001b[39m\u001b[39m\"\u001b[39m, children\u001b[39m=\u001b[39m[])\n\u001b[1;32m    169\u001b[0m \u001b[39mfor\u001b[39;00m nl, namelist \u001b[39min\u001b[39;00m input_file\u001b[39m.\u001b[39mitems():\n\u001b[1;32m    170\u001b[0m     \u001b[39m# tag_html += html.escape(f\"&{nl.upper()}\\n\")\u001b[39;00m\n\u001b[0;32m--> 171\u001b[0m     tag_column\u001b[39m.\u001b[39mchildren\u001b[39m.\u001b[39mextend([dash\u001b[39m.\u001b[39mhtml\u001b[39m.\u001b[39mSpan(nl\u001b[39m.\u001b[39mupper()), nl\u001b[39m.\u001b[39;49mBr()])\n\u001b[1;32m    172\u001b[0m     \u001b[39mfor\u001b[39;00m tag, val \u001b[39min\u001b[39;00m namelist\u001b[39m.\u001b[39mitems():\n\u001b[1;32m    173\u001b[0m         tag_column\u001b[39m.\u001b[39mchildren\u001b[39m.\u001b[39mextend(\n\u001b[1;32m    174\u001b[0m             \u001b[39mself\u001b[39m\u001b[39m.\u001b[39m_get_tag_html(nl, tag, val, comment_indents, file_id)\n\u001b[1;32m    175\u001b[0m         )\n",
      "\u001b[0;31mAttributeError\u001b[0m: 'NmlKey' object has no attribute 'Br'"
     ]
    }
   ],
   "source": [
    "Codex(['example/sr3pbo_bands.in'], '7.2')"
   ]
  },
  {
   "cell_type": "code",
   "execution_count": null,
   "metadata": {},
   "outputs": [],
   "source": []
  }
 ],
 "metadata": {
  "kernelspec": {
   "display_name": "codex-dev",
   "language": "python",
   "name": "python3"
  },
  "language_info": {
   "codemirror_mode": {
    "name": "ipython",
    "version": 3
   },
   "file_extension": ".py",
   "mimetype": "text/x-python",
   "name": "python",
   "nbconvert_exporter": "python",
   "pygments_lexer": "ipython3",
   "version": "3.11.2"
  },
  "orig_nbformat": 4
 },
 "nbformat": 4,
 "nbformat_minor": 2
}
