{
 "cells": [
  {
   "cell_type": "code",
   "execution_count": 9,
   "metadata": {},
   "outputs": [],
   "source": [
    "import logging\n",
    "\n",
    "from codex.qe_database import run_helpdoc, generate_database\n",
    "\n",
    "logging.basicConfig(level=logging.DEBUG)"
   ]
  },
  {
   "cell_type": "code",
   "execution_count": 10,
   "metadata": {},
   "outputs": [
    {
     "name": "stdout",
     "output_type": "stream",
     "text": [
      "WARNING: No HTML info for Hubbard_J(i,ityp)\n",
      "WARNING: No HTML info for starting_ns_eigenvalue(m,ispin,I)\n"
     ]
    }
   ],
   "source": [
    "work_dir = 'work'\n",
    "def_files = ['PW/Doc/INPUT_PW.def', 'PP/Doc/INPUT_PROJWFC.def']\n",
    "versions = ['6.3', '6.8', '7.0', '7.2']\n",
    "database_dir = 'database/'\n",
    "gen_docs = False\n",
    "\n",
    "if gen_docs:\n",
    "    run_helpdoc(work_dir, def_files, versions, database_dir)\n",
    "generate_database(versions, database_dir)"
   ]
  },
  {
   "cell_type": "code",
   "execution_count": null,
   "metadata": {},
   "outputs": [],
   "source": []
  }
 ],
 "metadata": {
  "kernelspec": {
   "display_name": "dft-tutor-dev",
   "language": "python",
   "name": "python3"
  },
  "language_info": {
   "codemirror_mode": {
    "name": "ipython",
    "version": 3
   },
   "file_extension": ".py",
   "mimetype": "text/x-python",
   "name": "python",
   "nbconvert_exporter": "python",
   "pygments_lexer": "ipython3",
   "version": "3.11.3"
  },
  "orig_nbformat": 4
 },
 "nbformat": 4,
 "nbformat_minor": 2
}
