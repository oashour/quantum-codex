{
 "cells": [
  {
   "cell_type": "code",
   "execution_count": 1,
   "metadata": {},
   "outputs": [],
   "source": [
    "#import wikitextparser as wtp\n",
    "import requests\n",
    "\n",
    "from codex.database.vasp import generate_database, refresh_database, tidy_wikicode, tidy_tag_html\n",
    "USER_AGENT = \"dft-codex/0.0.0 (Omar A. Ashour, ashour@berkeley.edu)\"\n",
    "API_URL = \"https://www.vasp.at/wiki/api.php\"\n",
    "REST_API_URL = \"https://www.vasp.at/wiki/rest.php/v1/\"\n",
    "\n",
    "import logging \n",
    "import re\n",
    "logging.basicConfig(level=logging.INFO)\n",
    "import html\n",
    "from copy import deepcopy\n",
    "from datetime import timezone, datetime\n",
    "\n",
    "from lxml.etree import tostring\n",
    "from lxml.html import parse, fromstring, tostring"
   ]
  },
  {
   "cell_type": "code",
   "execution_count": 2,
   "metadata": {},
   "outputs": [],
   "source": [
    "database = generate_database()"
   ]
  },
  {
   "cell_type": "code",
   "execution_count": null,
   "metadata": {},
   "outputs": [],
   "source": [
    "for tag, value in database['INCAR'].items():\n",
    "    print(f'{tag}')# {tagdef_templates[tag]} <---> {def_templates[tag]}')\n",
    "    if value['datatype'] != \"Unknown\":\n",
    "        print(f\"*** datatype: {value['datatype']}\")\n",
    "    print(f\"*** summary: {value['summary']}\")\n",
    "    if value['options']:\n",
    "        print(f\"*** options: {value['options']}\")\n",
    "    if value['default']:\n",
    "        print(f\"*** default: {value['default']}\")\n",
    "    print(f\"-----------------------------------\")"
   ]
  },
  {
   "attachments": {},
   "cell_type": "markdown",
   "metadata": {},
   "source": [
    "# HTML conversion (mwcomposerfromhell)"
   ]
  },
  {
   "attachments": {},
   "cell_type": "markdown",
   "metadata": {},
   "source": [
    "# Workflow\n",
    "We want to parse 5 specific pages + every INCAR tag.\n",
    "\n",
    "#### Option 1: Database exists\n",
    "1. pull *only* the time stamp of the 5 pages + every INCAR tag.\n",
    "2. compare time stamps to those in the database\n",
    "3. update list of pages to parse, only need those that have been updated\n",
    "4. parse the list of pages\n",
    "\n",
    "#### Option 2: Database doesn't exist\n",
    "1. pull the default list of pages \n"
   ]
  },
  {
   "cell_type": "code",
   "execution_count": null,
   "metadata": {},
   "outputs": [],
   "source": [
    "fudge_dates = True\n",
    "# Change the date on 20 random entries in the database to 1980\n",
    "import random\n",
    "if fudge_dates and database:\n",
    "    for i in range(30):\n",
    "        title = random.choice(list(database['INCAR'].keys()))\n",
    "        database['INCAR'][title][\"last_revised\"] = \"1980-01-01T00:00:00Z\"\n",
    "        #print(f\"Changed ['INCAR']['{title}'] to 1980-01-01T00:00:00Z\")"
   ]
  },
  {
   "cell_type": "code",
   "execution_count": null,
   "metadata": {},
   "outputs": [],
   "source": [
    "if not database:\n",
    "    logging.info(\"Database doesn't exist. Creating it now.\")\n",
    "    database = generate_database()\n",
    "    logging.info(\"Database created.\")\n",
    "else:\n",
    "    logging.info(\"Database exists. Checking for updates.\")\n",
    "    database = refresh_database(database)"
   ]
  },
  {
   "attachments": {},
   "cell_type": "markdown",
   "metadata": {},
   "source": [
    "# Defaults, Options and Data Type\n",
    "\n",
    "These can be obtained from `TAGDEF` and maybe `DEF` templates, depending on your luck...\n",
    "\n",
    "The format is:\n",
    "\n",
    "```\n",
    "{{TAGDEF | TAGNAME | DATATYPE | DEFAULT}}\n",
    "```\n",
    "\n",
    "where DATATYPE is either:\n",
    "```\n",
    "1. integer\n",
    "2. real\n",
    "3. logical (also written as .TRUE. {{!}} .FALSE.)\n",
    "4. (something) array (only seen real from a cursory look)\n",
    "5. A list of options (e.g., 1 {{!}} 2-10 {{!}} [integer] > 0)\n",
    "```\n",
    "\n",
    "DEFAULT isn't always there, and if it is, could be a string with some more explanation or even 'not set' or '<math>10^{-4}</math>' (with the HTML tags).\n",
    "\n",
    "the DEF template has the form:\n",
    "```\n",
    "{{DEF | TAGNAME | VALUE | CONDITION | VALUE | CONDITION | ....}}\n",
    "```\n",
    "where CONDITION is a string describing other tags (usually) and VALUE is an integer or string or whatever\n",
    "\n",
    "lam\n",
    "\n",
    "Example:\n",
    "```\n",
    "{{TAGDEF|PREC|Low {{!}} Medium {{!}} High {{!}} Normal {{!}} Single {{!}} Accurate}}\n",
    "```\n",
    "\n",
    "(no default, list of values)\n",
    "\n",
    "```\n",
    "{{DEF|ISTART|1|if a {{FILE|WAVECAR}} file exists|0|else}}\n",
    "```\n"
   ]
  },
  {
   "attachments": {},
   "cell_type": "markdown",
   "metadata": {},
   "source": [
    "# STRETCH GOAL\n",
    "The formatting of these things is utter shit, it might be really diffcult to do the comment to explain value thing...\n",
    "\n",
    "Look at the difference between ISMEAR and ICHARG. They're in lists, with possible indented list subitems, descriptions on same line or not, typos meaning there's no '=' after the value....\n",
    "\n",
    "Focus on the HTML webpage for now"
   ]
  },
  {
   "cell_type": "code",
   "execution_count": null,
   "metadata": {},
   "outputs": [],
   "source": [
    "tag = \"ICHARG\"\n",
    "text = database[tag][\"text\"]\n",
    "sections = text.get_sections()\n",
    "options = []\n",
    "#for section in sections:\n",
    "#    if section.title is not None:\n",
    "#        # Strip title of whitespace (leading and trailing)\n",
    "#        if section.title.strip() == \"Tag options\":\n",
    "#            lists = section.get_lists()\n",
    "wikilink=\"*{{TAG|\"+tag+\"}}\"\n",
    "lists = text.get_lists()\n",
    "for lll in lists:\n",
    "    for item in lll.fullitems:\n",
    "        if item.startswith(wikilink):\n",
    "            options.append(item.split(wikilink)[1].strip())\n",
    "\n",
    "print(options)\n",
    "#options_dict = {}\n",
    "#for option in options:\n",
    "#    setting = wtp.parse(option.split(\":\")[0]).plain_text()\n",
    "#    explanation = wtp.parse(option.split(\":\")[1]).plain_text()\n",
    "#    options_dict.update({setting: explanation})\n",
    "\n",
    "#options_dict"
   ]
  },
  {
   "attachments": {},
   "cell_type": "markdown",
   "metadata": {},
   "source": [
    "# PAW stuff"
   ]
  },
  {
   "cell_type": "code",
   "execution_count": null,
   "metadata": {},
   "outputs": [],
   "source": [
    "tag = \"Available PAW potentials\"\n",
    "text = database[tag][\"text\"]\n",
    "sections = text.get_sections()[1:3]\n",
    "bolds = []\n",
    "for section in sections:\n",
    "    print(section.title)\n",
    "    for b in section.get_bolds():\n",
    "        try:\n",
    "            float(b.plain_text())\n",
    "        except:\n",
    "            print(\"Found recommended pseudo: \" + b.plain_text())\n",
    "            # TODO: doesn't work for the GW ones....\n",
    "            bolds.append(b.plain_text())\n",
    "\n",
    "#bolds"
   ]
  }
 ],
 "metadata": {
  "kernelspec": {
   "display_name": "dft-tutor-dev",
   "language": "python",
   "name": "python3"
  },
  "language_info": {
   "codemirror_mode": {
    "name": "ipython",
    "version": 3
   },
   "file_extension": ".py",
   "mimetype": "text/x-python",
   "name": "python",
   "nbconvert_exporter": "python",
   "pygments_lexer": "ipython3",
   "version": "3.11.2"
  },
  "orig_nbformat": 4
 },
 "nbformat": 4,
 "nbformat_minor": 2
}
